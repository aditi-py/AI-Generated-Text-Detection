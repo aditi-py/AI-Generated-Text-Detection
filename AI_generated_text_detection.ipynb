{
  "cells": [
    {
      "cell_type": "markdown",
      "source": [
        "# Project: AI or not? 🤖\n",
        "--------------------------------\n"
      ],
      "metadata": {
        "id": "CyYLg2_gj-SJ"
      }
    },
    {
      "cell_type": "markdown",
      "source": [
        "# 🔴 Importing Libraries"
      ],
      "metadata": {
        "id": "mD_q2ooyYUUA"
      }
    },
    {
      "cell_type": "code",
      "source": [
        "# import modules\n",
        "# for general data analysis/plotting\n",
        "import pandas as pd\n",
        "import matplotlib.pyplot as plt\n",
        "import numpy as np\n",
        "import seaborn as sns\n",
        "\n",
        "# for data prep\n",
        "from sklearn.model_selection import train_test_split\n",
        "\n",
        "#for standardscaler\n",
        "from sklearn.preprocessing import StandardScaler\n",
        "\n",
        "#for classification report and confusion matrix\n",
        "from sklearn.metrics import confusion_matrix\n",
        "from sklearn.metrics import classification_report\n",
        "\n",
        "# neural net modules\n",
        "from keras.models import Sequential\n",
        "from keras.layers import Dense, Dropout\n",
        "from keras.callbacks import EarlyStopping"
      ],
      "metadata": {
        "id": "8YvL50NAYYhz"
      },
      "execution_count": 1,
      "outputs": []
    },
    {
      "cell_type": "markdown",
      "metadata": {
        "id": "tPvBo7jlZOSQ"
      },
      "source": [
        "# 🔴 Downloading and importing Data\n",
        "* Raw data was download from this website:\n",
        "  * https://bitgrit.net/competition/19\n",
        "\n",
        "\n"
      ]
    },
    {
      "cell_type": "code",
      "source": [
        "!pip install --upgrade gdown\n"
      ],
      "metadata": {
        "colab": {
          "base_uri": "https://localhost:8080/"
        },
        "id": "Wk23MFvUfp3O",
        "outputId": "5f17fb55-eb23-4068-ccbd-612f5ebf1a83"
      },
      "execution_count": 3,
      "outputs": [
        {
          "output_type": "stream",
          "name": "stdout",
          "text": [
            "Requirement already satisfied: gdown in /usr/local/lib/python3.10/dist-packages (4.6.6)\n",
            "Collecting gdown\n",
            "  Downloading gdown-4.7.3-py3-none-any.whl (16 kB)\n",
            "Requirement already satisfied: filelock in /usr/local/lib/python3.10/dist-packages (from gdown) (3.13.1)\n",
            "Requirement already satisfied: requests[socks] in /usr/local/lib/python3.10/dist-packages (from gdown) (2.31.0)\n",
            "Requirement already satisfied: six in /usr/local/lib/python3.10/dist-packages (from gdown) (1.16.0)\n",
            "Requirement already satisfied: tqdm in /usr/local/lib/python3.10/dist-packages (from gdown) (4.66.1)\n",
            "Requirement already satisfied: beautifulsoup4 in /usr/local/lib/python3.10/dist-packages (from gdown) (4.11.2)\n",
            "Requirement already satisfied: soupsieve>1.2 in /usr/local/lib/python3.10/dist-packages (from beautifulsoup4->gdown) (2.5)\n",
            "Requirement already satisfied: charset-normalizer<4,>=2 in /usr/local/lib/python3.10/dist-packages (from requests[socks]->gdown) (3.3.2)\n",
            "Requirement already satisfied: idna<4,>=2.5 in /usr/local/lib/python3.10/dist-packages (from requests[socks]->gdown) (3.6)\n",
            "Requirement already satisfied: urllib3<3,>=1.21.1 in /usr/local/lib/python3.10/dist-packages (from requests[socks]->gdown) (2.0.7)\n",
            "Requirement already satisfied: certifi>=2017.4.17 in /usr/local/lib/python3.10/dist-packages (from requests[socks]->gdown) (2023.11.17)\n",
            "Requirement already satisfied: PySocks!=1.5.7,>=1.5.6 in /usr/local/lib/python3.10/dist-packages (from requests[socks]->gdown) (1.7.1)\n",
            "Installing collected packages: gdown\n",
            "  Attempting uninstall: gdown\n",
            "    Found existing installation: gdown 4.6.6\n",
            "    Uninstalling gdown-4.6.6:\n",
            "      Successfully uninstalled gdown-4.6.6\n",
            "Successfully installed gdown-4.7.3\n"
          ]
        }
      ]
    },
    {
      "cell_type": "code",
      "execution_count": 5,
      "metadata": {
        "id": "gDG8VKlLAMrD",
        "colab": {
          "base_uri": "https://localhost:8080/"
        },
        "outputId": "b9142f75-9534-453a-e73f-c74aa39bc2d2"
      },
      "outputs": [
        {
          "output_type": "stream",
          "name": "stdout",
          "text": [
            "Downloading...\n",
            "From (original): https://drive.google.com/uc?id=1mdAU_vvGkDZTIcsU8QVUez3RLV4KDuDf\n",
            "From (redirected): https://drive.google.com/uc?id=1mdAU_vvGkDZTIcsU8QVUez3RLV4KDuDf&confirm=t&uuid=97c13d36-7f4a-4268-a842-e9e05c1fde4a\n",
            "To: /content/ai-text-competition-data.zip\n",
            "100% 50.8M/50.8M [00:00<00:00, 81.0MB/s]\n"
          ]
        }
      ],
      "source": [
        "# https://drive.google.com/file/d/1mdAU_vvGkDZTIcsU8QVUez3RLV4KDuDf/view?usp=sharing\n",
        "!gdown 1mdAU_vvGkDZTIcsU8QVUez3RLV4KDuDf"
      ]
    },
    {
      "cell_type": "code",
      "execution_count": 6,
      "metadata": {
        "colab": {
          "base_uri": "https://localhost:8080/"
        },
        "id": "D4qfvibvavv4",
        "outputId": "d3e73f15-1f6d-485d-a9df-c06e27a4c5a3"
      },
      "outputs": [
        {
          "output_type": "stream",
          "name": "stdout",
          "text": [
            "Archive:  ai-text-competition-data.zip\n",
            "   creating: ai-text-competition/\n",
            "  inflating: ai-text-competition/solution_format.csv  \n",
            "  inflating: ai-text-competition/test_set.csv  \n",
            "  inflating: ai-text-competition/training_set.csv  \n"
          ]
        }
      ],
      "source": [
        "# unzip it\n",
        "!unzip ai-text-competition-data.zip\n",
        "\n",
        "# read it\n",
        "df = pd.read_csv('/content/ai-text-competition/training_set.csv')"
      ]
    },
    {
      "cell_type": "markdown",
      "source": [
        "## 🟡 Exploring Data"
      ],
      "metadata": {
        "id": "to_H3hz8Z0Qg"
      }
    },
    {
      "cell_type": "code",
      "execution_count": 7,
      "metadata": {
        "id": "84i4MsocAQLv",
        "colab": {
          "base_uri": "https://localhost:8080/"
        },
        "outputId": "6b4fb043-f57c-4a75-ce2a-645407215bc4"
      },
      "outputs": [
        {
          "output_type": "stream",
          "name": "stdout",
          "text": [
            "(11144, 772)\n"
          ]
        }
      ],
      "source": [
        "#Checcking the shape of data\n",
        "print(df.shape)\n"
      ]
    },
    {
      "cell_type": "code",
      "source": [
        "# Checking first few samples of the data\n",
        "df.head()"
      ],
      "metadata": {
        "id": "l68kgtSfakfp",
        "colab": {
          "base_uri": "https://localhost:8080/",
          "height": 255
        },
        "outputId": "dc76b719-9629-4630-fbaa-82efa93921ba"
      },
      "execution_count": 8,
      "outputs": [
        {
          "output_type": "execute_result",
          "data": {
            "text/plain": [
              "   ID  feature_0  feature_1  feature_2  feature_3  feature_4  feature_5  \\\n",
              "0   1   0.231980  -0.190620  -0.985933  -0.233773  -0.355879  -0.488884   \n",
              "1   2   0.168223  -1.204551  -0.596952  -0.722583   0.284799  -0.238639   \n",
              "2   3   0.522005  -0.759933  -1.209413   0.301834   0.361126   0.158161   \n",
              "3   4   0.038746  -1.408335  -0.580810   0.353450   1.142353  -0.418879   \n",
              "4   5  -0.307572   0.103575  -0.368605  -0.378654  -0.285990  -0.508058   \n",
              "\n",
              "   feature_6  feature_7  feature_8  ...  feature_761  feature_762  \\\n",
              "0   0.254773  -0.121213  -0.820528  ...     0.101373     0.575414   \n",
              "1  -0.410948  -0.090654   1.220703  ...     0.407270     0.769329   \n",
              "2  -0.117013   0.313158   1.102455  ...     0.143658     0.874958   \n",
              "3  -0.134133  -0.199796   1.071100  ...     0.728436     0.540930   \n",
              "4  -0.254869  -0.108291  -0.095139  ...    -0.146845     0.497731   \n",
              "\n",
              "   feature_763  feature_764  feature_765  feature_766  feature_767  \\\n",
              "0    -0.567646    -0.051293     0.455840     0.065538     0.020671   \n",
              "1     0.555820     0.252843     0.603888     1.240028    -0.076253   \n",
              "2     0.679421     0.393198     0.439103     0.742181    -0.430493   \n",
              "3     1.968447     0.185315     0.630167     0.577032     0.117681   \n",
              "4    -0.299924    -0.020024     0.975511    -0.342360    -0.428779   \n",
              "\n",
              "   word_count  punc_num  ind  \n",
              "0          25        14    0  \n",
              "1          23         4    0  \n",
              "2          29         8    0  \n",
              "3          14         3    0  \n",
              "4          35         9    0  \n",
              "\n",
              "[5 rows x 772 columns]"
            ],
            "text/html": [
              "\n",
              "  <div id=\"df-da2b9157-97ff-4580-9352-cda551e4c627\" class=\"colab-df-container\">\n",
              "    <div>\n",
              "<style scoped>\n",
              "    .dataframe tbody tr th:only-of-type {\n",
              "        vertical-align: middle;\n",
              "    }\n",
              "\n",
              "    .dataframe tbody tr th {\n",
              "        vertical-align: top;\n",
              "    }\n",
              "\n",
              "    .dataframe thead th {\n",
              "        text-align: right;\n",
              "    }\n",
              "</style>\n",
              "<table border=\"1\" class=\"dataframe\">\n",
              "  <thead>\n",
              "    <tr style=\"text-align: right;\">\n",
              "      <th></th>\n",
              "      <th>ID</th>\n",
              "      <th>feature_0</th>\n",
              "      <th>feature_1</th>\n",
              "      <th>feature_2</th>\n",
              "      <th>feature_3</th>\n",
              "      <th>feature_4</th>\n",
              "      <th>feature_5</th>\n",
              "      <th>feature_6</th>\n",
              "      <th>feature_7</th>\n",
              "      <th>feature_8</th>\n",
              "      <th>...</th>\n",
              "      <th>feature_761</th>\n",
              "      <th>feature_762</th>\n",
              "      <th>feature_763</th>\n",
              "      <th>feature_764</th>\n",
              "      <th>feature_765</th>\n",
              "      <th>feature_766</th>\n",
              "      <th>feature_767</th>\n",
              "      <th>word_count</th>\n",
              "      <th>punc_num</th>\n",
              "      <th>ind</th>\n",
              "    </tr>\n",
              "  </thead>\n",
              "  <tbody>\n",
              "    <tr>\n",
              "      <th>0</th>\n",
              "      <td>1</td>\n",
              "      <td>0.231980</td>\n",
              "      <td>-0.190620</td>\n",
              "      <td>-0.985933</td>\n",
              "      <td>-0.233773</td>\n",
              "      <td>-0.355879</td>\n",
              "      <td>-0.488884</td>\n",
              "      <td>0.254773</td>\n",
              "      <td>-0.121213</td>\n",
              "      <td>-0.820528</td>\n",
              "      <td>...</td>\n",
              "      <td>0.101373</td>\n",
              "      <td>0.575414</td>\n",
              "      <td>-0.567646</td>\n",
              "      <td>-0.051293</td>\n",
              "      <td>0.455840</td>\n",
              "      <td>0.065538</td>\n",
              "      <td>0.020671</td>\n",
              "      <td>25</td>\n",
              "      <td>14</td>\n",
              "      <td>0</td>\n",
              "    </tr>\n",
              "    <tr>\n",
              "      <th>1</th>\n",
              "      <td>2</td>\n",
              "      <td>0.168223</td>\n",
              "      <td>-1.204551</td>\n",
              "      <td>-0.596952</td>\n",
              "      <td>-0.722583</td>\n",
              "      <td>0.284799</td>\n",
              "      <td>-0.238639</td>\n",
              "      <td>-0.410948</td>\n",
              "      <td>-0.090654</td>\n",
              "      <td>1.220703</td>\n",
              "      <td>...</td>\n",
              "      <td>0.407270</td>\n",
              "      <td>0.769329</td>\n",
              "      <td>0.555820</td>\n",
              "      <td>0.252843</td>\n",
              "      <td>0.603888</td>\n",
              "      <td>1.240028</td>\n",
              "      <td>-0.076253</td>\n",
              "      <td>23</td>\n",
              "      <td>4</td>\n",
              "      <td>0</td>\n",
              "    </tr>\n",
              "    <tr>\n",
              "      <th>2</th>\n",
              "      <td>3</td>\n",
              "      <td>0.522005</td>\n",
              "      <td>-0.759933</td>\n",
              "      <td>-1.209413</td>\n",
              "      <td>0.301834</td>\n",
              "      <td>0.361126</td>\n",
              "      <td>0.158161</td>\n",
              "      <td>-0.117013</td>\n",
              "      <td>0.313158</td>\n",
              "      <td>1.102455</td>\n",
              "      <td>...</td>\n",
              "      <td>0.143658</td>\n",
              "      <td>0.874958</td>\n",
              "      <td>0.679421</td>\n",
              "      <td>0.393198</td>\n",
              "      <td>0.439103</td>\n",
              "      <td>0.742181</td>\n",
              "      <td>-0.430493</td>\n",
              "      <td>29</td>\n",
              "      <td>8</td>\n",
              "      <td>0</td>\n",
              "    </tr>\n",
              "    <tr>\n",
              "      <th>3</th>\n",
              "      <td>4</td>\n",
              "      <td>0.038746</td>\n",
              "      <td>-1.408335</td>\n",
              "      <td>-0.580810</td>\n",
              "      <td>0.353450</td>\n",
              "      <td>1.142353</td>\n",
              "      <td>-0.418879</td>\n",
              "      <td>-0.134133</td>\n",
              "      <td>-0.199796</td>\n",
              "      <td>1.071100</td>\n",
              "      <td>...</td>\n",
              "      <td>0.728436</td>\n",
              "      <td>0.540930</td>\n",
              "      <td>1.968447</td>\n",
              "      <td>0.185315</td>\n",
              "      <td>0.630167</td>\n",
              "      <td>0.577032</td>\n",
              "      <td>0.117681</td>\n",
              "      <td>14</td>\n",
              "      <td>3</td>\n",
              "      <td>0</td>\n",
              "    </tr>\n",
              "    <tr>\n",
              "      <th>4</th>\n",
              "      <td>5</td>\n",
              "      <td>-0.307572</td>\n",
              "      <td>0.103575</td>\n",
              "      <td>-0.368605</td>\n",
              "      <td>-0.378654</td>\n",
              "      <td>-0.285990</td>\n",
              "      <td>-0.508058</td>\n",
              "      <td>-0.254869</td>\n",
              "      <td>-0.108291</td>\n",
              "      <td>-0.095139</td>\n",
              "      <td>...</td>\n",
              "      <td>-0.146845</td>\n",
              "      <td>0.497731</td>\n",
              "      <td>-0.299924</td>\n",
              "      <td>-0.020024</td>\n",
              "      <td>0.975511</td>\n",
              "      <td>-0.342360</td>\n",
              "      <td>-0.428779</td>\n",
              "      <td>35</td>\n",
              "      <td>9</td>\n",
              "      <td>0</td>\n",
              "    </tr>\n",
              "  </tbody>\n",
              "</table>\n",
              "<p>5 rows × 772 columns</p>\n",
              "</div>\n",
              "    <div class=\"colab-df-buttons\">\n",
              "\n",
              "  <div class=\"colab-df-container\">\n",
              "    <button class=\"colab-df-convert\" onclick=\"convertToInteractive('df-da2b9157-97ff-4580-9352-cda551e4c627')\"\n",
              "            title=\"Convert this dataframe to an interactive table.\"\n",
              "            style=\"display:none;\">\n",
              "\n",
              "  <svg xmlns=\"http://www.w3.org/2000/svg\" height=\"24px\" viewBox=\"0 -960 960 960\">\n",
              "    <path d=\"M120-120v-720h720v720H120Zm60-500h600v-160H180v160Zm220 220h160v-160H400v160Zm0 220h160v-160H400v160ZM180-400h160v-160H180v160Zm440 0h160v-160H620v160ZM180-180h160v-160H180v160Zm440 0h160v-160H620v160Z\"/>\n",
              "  </svg>\n",
              "    </button>\n",
              "\n",
              "  <style>\n",
              "    .colab-df-container {\n",
              "      display:flex;\n",
              "      gap: 12px;\n",
              "    }\n",
              "\n",
              "    .colab-df-convert {\n",
              "      background-color: #E8F0FE;\n",
              "      border: none;\n",
              "      border-radius: 50%;\n",
              "      cursor: pointer;\n",
              "      display: none;\n",
              "      fill: #1967D2;\n",
              "      height: 32px;\n",
              "      padding: 0 0 0 0;\n",
              "      width: 32px;\n",
              "    }\n",
              "\n",
              "    .colab-df-convert:hover {\n",
              "      background-color: #E2EBFA;\n",
              "      box-shadow: 0px 1px 2px rgba(60, 64, 67, 0.3), 0px 1px 3px 1px rgba(60, 64, 67, 0.15);\n",
              "      fill: #174EA6;\n",
              "    }\n",
              "\n",
              "    .colab-df-buttons div {\n",
              "      margin-bottom: 4px;\n",
              "    }\n",
              "\n",
              "    [theme=dark] .colab-df-convert {\n",
              "      background-color: #3B4455;\n",
              "      fill: #D2E3FC;\n",
              "    }\n",
              "\n",
              "    [theme=dark] .colab-df-convert:hover {\n",
              "      background-color: #434B5C;\n",
              "      box-shadow: 0px 1px 3px 1px rgba(0, 0, 0, 0.15);\n",
              "      filter: drop-shadow(0px 1px 2px rgba(0, 0, 0, 0.3));\n",
              "      fill: #FFFFFF;\n",
              "    }\n",
              "  </style>\n",
              "\n",
              "    <script>\n",
              "      const buttonEl =\n",
              "        document.querySelector('#df-da2b9157-97ff-4580-9352-cda551e4c627 button.colab-df-convert');\n",
              "      buttonEl.style.display =\n",
              "        google.colab.kernel.accessAllowed ? 'block' : 'none';\n",
              "\n",
              "      async function convertToInteractive(key) {\n",
              "        const element = document.querySelector('#df-da2b9157-97ff-4580-9352-cda551e4c627');\n",
              "        const dataTable =\n",
              "          await google.colab.kernel.invokeFunction('convertToInteractive',\n",
              "                                                    [key], {});\n",
              "        if (!dataTable) return;\n",
              "\n",
              "        const docLinkHtml = 'Like what you see? Visit the ' +\n",
              "          '<a target=\"_blank\" href=https://colab.research.google.com/notebooks/data_table.ipynb>data table notebook</a>'\n",
              "          + ' to learn more about interactive tables.';\n",
              "        element.innerHTML = '';\n",
              "        dataTable['output_type'] = 'display_data';\n",
              "        await google.colab.output.renderOutput(dataTable, element);\n",
              "        const docLink = document.createElement('div');\n",
              "        docLink.innerHTML = docLinkHtml;\n",
              "        element.appendChild(docLink);\n",
              "      }\n",
              "    </script>\n",
              "  </div>\n",
              "\n",
              "\n",
              "<div id=\"df-295a9bc4-07d8-4a7f-a46c-7841a199b0ff\">\n",
              "  <button class=\"colab-df-quickchart\" onclick=\"quickchart('df-295a9bc4-07d8-4a7f-a46c-7841a199b0ff')\"\n",
              "            title=\"Suggest charts\"\n",
              "            style=\"display:none;\">\n",
              "\n",
              "<svg xmlns=\"http://www.w3.org/2000/svg\" height=\"24px\"viewBox=\"0 0 24 24\"\n",
              "     width=\"24px\">\n",
              "    <g>\n",
              "        <path d=\"M19 3H5c-1.1 0-2 .9-2 2v14c0 1.1.9 2 2 2h14c1.1 0 2-.9 2-2V5c0-1.1-.9-2-2-2zM9 17H7v-7h2v7zm4 0h-2V7h2v10zm4 0h-2v-4h2v4z\"/>\n",
              "    </g>\n",
              "</svg>\n",
              "  </button>\n",
              "\n",
              "<style>\n",
              "  .colab-df-quickchart {\n",
              "      --bg-color: #E8F0FE;\n",
              "      --fill-color: #1967D2;\n",
              "      --hover-bg-color: #E2EBFA;\n",
              "      --hover-fill-color: #174EA6;\n",
              "      --disabled-fill-color: #AAA;\n",
              "      --disabled-bg-color: #DDD;\n",
              "  }\n",
              "\n",
              "  [theme=dark] .colab-df-quickchart {\n",
              "      --bg-color: #3B4455;\n",
              "      --fill-color: #D2E3FC;\n",
              "      --hover-bg-color: #434B5C;\n",
              "      --hover-fill-color: #FFFFFF;\n",
              "      --disabled-bg-color: #3B4455;\n",
              "      --disabled-fill-color: #666;\n",
              "  }\n",
              "\n",
              "  .colab-df-quickchart {\n",
              "    background-color: var(--bg-color);\n",
              "    border: none;\n",
              "    border-radius: 50%;\n",
              "    cursor: pointer;\n",
              "    display: none;\n",
              "    fill: var(--fill-color);\n",
              "    height: 32px;\n",
              "    padding: 0;\n",
              "    width: 32px;\n",
              "  }\n",
              "\n",
              "  .colab-df-quickchart:hover {\n",
              "    background-color: var(--hover-bg-color);\n",
              "    box-shadow: 0 1px 2px rgba(60, 64, 67, 0.3), 0 1px 3px 1px rgba(60, 64, 67, 0.15);\n",
              "    fill: var(--button-hover-fill-color);\n",
              "  }\n",
              "\n",
              "  .colab-df-quickchart-complete:disabled,\n",
              "  .colab-df-quickchart-complete:disabled:hover {\n",
              "    background-color: var(--disabled-bg-color);\n",
              "    fill: var(--disabled-fill-color);\n",
              "    box-shadow: none;\n",
              "  }\n",
              "\n",
              "  .colab-df-spinner {\n",
              "    border: 2px solid var(--fill-color);\n",
              "    border-color: transparent;\n",
              "    border-bottom-color: var(--fill-color);\n",
              "    animation:\n",
              "      spin 1s steps(1) infinite;\n",
              "  }\n",
              "\n",
              "  @keyframes spin {\n",
              "    0% {\n",
              "      border-color: transparent;\n",
              "      border-bottom-color: var(--fill-color);\n",
              "      border-left-color: var(--fill-color);\n",
              "    }\n",
              "    20% {\n",
              "      border-color: transparent;\n",
              "      border-left-color: var(--fill-color);\n",
              "      border-top-color: var(--fill-color);\n",
              "    }\n",
              "    30% {\n",
              "      border-color: transparent;\n",
              "      border-left-color: var(--fill-color);\n",
              "      border-top-color: var(--fill-color);\n",
              "      border-right-color: var(--fill-color);\n",
              "    }\n",
              "    40% {\n",
              "      border-color: transparent;\n",
              "      border-right-color: var(--fill-color);\n",
              "      border-top-color: var(--fill-color);\n",
              "    }\n",
              "    60% {\n",
              "      border-color: transparent;\n",
              "      border-right-color: var(--fill-color);\n",
              "    }\n",
              "    80% {\n",
              "      border-color: transparent;\n",
              "      border-right-color: var(--fill-color);\n",
              "      border-bottom-color: var(--fill-color);\n",
              "    }\n",
              "    90% {\n",
              "      border-color: transparent;\n",
              "      border-bottom-color: var(--fill-color);\n",
              "    }\n",
              "  }\n",
              "</style>\n",
              "\n",
              "  <script>\n",
              "    async function quickchart(key) {\n",
              "      const quickchartButtonEl =\n",
              "        document.querySelector('#' + key + ' button');\n",
              "      quickchartButtonEl.disabled = true;  // To prevent multiple clicks.\n",
              "      quickchartButtonEl.classList.add('colab-df-spinner');\n",
              "      try {\n",
              "        const charts = await google.colab.kernel.invokeFunction(\n",
              "            'suggestCharts', [key], {});\n",
              "      } catch (error) {\n",
              "        console.error('Error during call to suggestCharts:', error);\n",
              "      }\n",
              "      quickchartButtonEl.classList.remove('colab-df-spinner');\n",
              "      quickchartButtonEl.classList.add('colab-df-quickchart-complete');\n",
              "    }\n",
              "    (() => {\n",
              "      let quickchartButtonEl =\n",
              "        document.querySelector('#df-295a9bc4-07d8-4a7f-a46c-7841a199b0ff button');\n",
              "      quickchartButtonEl.style.display =\n",
              "        google.colab.kernel.accessAllowed ? 'block' : 'none';\n",
              "    })();\n",
              "  </script>\n",
              "</div>\n",
              "\n",
              "    </div>\n",
              "  </div>\n"
            ]
          },
          "metadata": {},
          "execution_count": 8
        }
      ]
    },
    {
      "cell_type": "markdown",
      "source": [
        "### 🔵 Summary of Dataset"
      ],
      "metadata": {
        "id": "_Yol40vrcmzS"
      }
    },
    {
      "cell_type": "code",
      "source": [
        "# Quick summary of the dataset\n",
        "df.describe()"
      ],
      "metadata": {
        "id": "W3c39W9ScUEo",
        "colab": {
          "base_uri": "https://localhost:8080/",
          "height": 349
        },
        "outputId": "8555e342-360c-46b3-f3bd-b930d173f601"
      },
      "execution_count": 9,
      "outputs": [
        {
          "output_type": "execute_result",
          "data": {
            "text/plain": [
              "                 ID     feature_0     feature_1     feature_2     feature_3  \\\n",
              "count  11144.000000  11144.000000  11144.000000  11144.000000  11144.000000   \n",
              "mean    5572.500000      0.146012     -0.273505     -0.666907     -0.415562   \n",
              "std     3217.140034      0.389374      0.382566      0.432605      0.745149   \n",
              "min        1.000000     -1.633110     -1.971542     -2.505377     -4.280401   \n",
              "25%     2786.750000     -0.111816     -0.517288     -0.954874     -0.891329   \n",
              "50%     5572.500000      0.161513     -0.261028     -0.673000     -0.415641   \n",
              "75%     8358.250000      0.418461     -0.016541     -0.381686      0.078408   \n",
              "max    11144.000000      1.378549      1.376324      1.392311      2.184251   \n",
              "\n",
              "          feature_4     feature_5     feature_6     feature_7     feature_8  \\\n",
              "count  11144.000000  11144.000000  11144.000000  11144.000000  11144.000000   \n",
              "mean      -0.230934     -0.270790     -0.039869     -0.037003      0.101543   \n",
              "std        0.583487      0.388663      0.292493      0.246509      0.503054   \n",
              "min       -2.413613     -1.514833     -1.427118     -1.036038     -1.779871   \n",
              "25%       -0.633606     -0.536751     -0.229016     -0.197038     -0.236033   \n",
              "50%       -0.244129     -0.281473     -0.036129     -0.038384      0.068244   \n",
              "75%        0.168207     -0.018891      0.157572      0.117311      0.399803   \n",
              "max        1.659698      1.667419      1.070739      1.320982      2.456948   \n",
              "\n",
              "       ...   feature_761   feature_762   feature_763   feature_764  \\\n",
              "count  ...  11144.000000  11144.000000  11144.000000  11144.000000   \n",
              "mean   ...      0.274985      0.687529      0.269849      0.199639   \n",
              "std    ...      0.406760      0.431843      0.545066      0.304694   \n",
              "min    ...     -1.765492     -1.723701     -1.506003     -1.272904   \n",
              "25%    ...     -0.000389      0.392865     -0.125641      0.000539   \n",
              "50%    ...      0.256874      0.683075      0.213906      0.205270   \n",
              "75%    ...      0.535327      0.981356      0.634109      0.400167   \n",
              "max    ...      1.987709      1.965830      2.582598      1.375909   \n",
              "\n",
              "        feature_765   feature_766   feature_767    word_count      punc_num  \\\n",
              "count  11144.000000  11144.000000  11144.000000  11144.000000  11144.000000   \n",
              "mean       0.443093      0.078578     -0.062243     29.978643      7.347003   \n",
              "std        0.365657      0.551214      0.300848     10.271548      4.041350   \n",
              "min       -1.467510     -1.605773     -1.085949      5.000000      0.000000   \n",
              "25%        0.208861     -0.303969     -0.273816     22.000000      4.000000   \n",
              "50%        0.461389      0.021472     -0.074150     30.000000      7.000000   \n",
              "75%        0.692926      0.405299      0.129446     38.000000     10.000000   \n",
              "max        1.879438      2.579186      1.674109     57.000000     27.000000   \n",
              "\n",
              "                ind  \n",
              "count  11144.000000  \n",
              "mean       0.098708  \n",
              "std        0.298283  \n",
              "min        0.000000  \n",
              "25%        0.000000  \n",
              "50%        0.000000  \n",
              "75%        0.000000  \n",
              "max        1.000000  \n",
              "\n",
              "[8 rows x 772 columns]"
            ],
            "text/html": [
              "\n",
              "  <div id=\"df-dad96978-1cf9-404b-a681-6b7b5ec118f4\" class=\"colab-df-container\">\n",
              "    <div>\n",
              "<style scoped>\n",
              "    .dataframe tbody tr th:only-of-type {\n",
              "        vertical-align: middle;\n",
              "    }\n",
              "\n",
              "    .dataframe tbody tr th {\n",
              "        vertical-align: top;\n",
              "    }\n",
              "\n",
              "    .dataframe thead th {\n",
              "        text-align: right;\n",
              "    }\n",
              "</style>\n",
              "<table border=\"1\" class=\"dataframe\">\n",
              "  <thead>\n",
              "    <tr style=\"text-align: right;\">\n",
              "      <th></th>\n",
              "      <th>ID</th>\n",
              "      <th>feature_0</th>\n",
              "      <th>feature_1</th>\n",
              "      <th>feature_2</th>\n",
              "      <th>feature_3</th>\n",
              "      <th>feature_4</th>\n",
              "      <th>feature_5</th>\n",
              "      <th>feature_6</th>\n",
              "      <th>feature_7</th>\n",
              "      <th>feature_8</th>\n",
              "      <th>...</th>\n",
              "      <th>feature_761</th>\n",
              "      <th>feature_762</th>\n",
              "      <th>feature_763</th>\n",
              "      <th>feature_764</th>\n",
              "      <th>feature_765</th>\n",
              "      <th>feature_766</th>\n",
              "      <th>feature_767</th>\n",
              "      <th>word_count</th>\n",
              "      <th>punc_num</th>\n",
              "      <th>ind</th>\n",
              "    </tr>\n",
              "  </thead>\n",
              "  <tbody>\n",
              "    <tr>\n",
              "      <th>count</th>\n",
              "      <td>11144.000000</td>\n",
              "      <td>11144.000000</td>\n",
              "      <td>11144.000000</td>\n",
              "      <td>11144.000000</td>\n",
              "      <td>11144.000000</td>\n",
              "      <td>11144.000000</td>\n",
              "      <td>11144.000000</td>\n",
              "      <td>11144.000000</td>\n",
              "      <td>11144.000000</td>\n",
              "      <td>11144.000000</td>\n",
              "      <td>...</td>\n",
              "      <td>11144.000000</td>\n",
              "      <td>11144.000000</td>\n",
              "      <td>11144.000000</td>\n",
              "      <td>11144.000000</td>\n",
              "      <td>11144.000000</td>\n",
              "      <td>11144.000000</td>\n",
              "      <td>11144.000000</td>\n",
              "      <td>11144.000000</td>\n",
              "      <td>11144.000000</td>\n",
              "      <td>11144.000000</td>\n",
              "    </tr>\n",
              "    <tr>\n",
              "      <th>mean</th>\n",
              "      <td>5572.500000</td>\n",
              "      <td>0.146012</td>\n",
              "      <td>-0.273505</td>\n",
              "      <td>-0.666907</td>\n",
              "      <td>-0.415562</td>\n",
              "      <td>-0.230934</td>\n",
              "      <td>-0.270790</td>\n",
              "      <td>-0.039869</td>\n",
              "      <td>-0.037003</td>\n",
              "      <td>0.101543</td>\n",
              "      <td>...</td>\n",
              "      <td>0.274985</td>\n",
              "      <td>0.687529</td>\n",
              "      <td>0.269849</td>\n",
              "      <td>0.199639</td>\n",
              "      <td>0.443093</td>\n",
              "      <td>0.078578</td>\n",
              "      <td>-0.062243</td>\n",
              "      <td>29.978643</td>\n",
              "      <td>7.347003</td>\n",
              "      <td>0.098708</td>\n",
              "    </tr>\n",
              "    <tr>\n",
              "      <th>std</th>\n",
              "      <td>3217.140034</td>\n",
              "      <td>0.389374</td>\n",
              "      <td>0.382566</td>\n",
              "      <td>0.432605</td>\n",
              "      <td>0.745149</td>\n",
              "      <td>0.583487</td>\n",
              "      <td>0.388663</td>\n",
              "      <td>0.292493</td>\n",
              "      <td>0.246509</td>\n",
              "      <td>0.503054</td>\n",
              "      <td>...</td>\n",
              "      <td>0.406760</td>\n",
              "      <td>0.431843</td>\n",
              "      <td>0.545066</td>\n",
              "      <td>0.304694</td>\n",
              "      <td>0.365657</td>\n",
              "      <td>0.551214</td>\n",
              "      <td>0.300848</td>\n",
              "      <td>10.271548</td>\n",
              "      <td>4.041350</td>\n",
              "      <td>0.298283</td>\n",
              "    </tr>\n",
              "    <tr>\n",
              "      <th>min</th>\n",
              "      <td>1.000000</td>\n",
              "      <td>-1.633110</td>\n",
              "      <td>-1.971542</td>\n",
              "      <td>-2.505377</td>\n",
              "      <td>-4.280401</td>\n",
              "      <td>-2.413613</td>\n",
              "      <td>-1.514833</td>\n",
              "      <td>-1.427118</td>\n",
              "      <td>-1.036038</td>\n",
              "      <td>-1.779871</td>\n",
              "      <td>...</td>\n",
              "      <td>-1.765492</td>\n",
              "      <td>-1.723701</td>\n",
              "      <td>-1.506003</td>\n",
              "      <td>-1.272904</td>\n",
              "      <td>-1.467510</td>\n",
              "      <td>-1.605773</td>\n",
              "      <td>-1.085949</td>\n",
              "      <td>5.000000</td>\n",
              "      <td>0.000000</td>\n",
              "      <td>0.000000</td>\n",
              "    </tr>\n",
              "    <tr>\n",
              "      <th>25%</th>\n",
              "      <td>2786.750000</td>\n",
              "      <td>-0.111816</td>\n",
              "      <td>-0.517288</td>\n",
              "      <td>-0.954874</td>\n",
              "      <td>-0.891329</td>\n",
              "      <td>-0.633606</td>\n",
              "      <td>-0.536751</td>\n",
              "      <td>-0.229016</td>\n",
              "      <td>-0.197038</td>\n",
              "      <td>-0.236033</td>\n",
              "      <td>...</td>\n",
              "      <td>-0.000389</td>\n",
              "      <td>0.392865</td>\n",
              "      <td>-0.125641</td>\n",
              "      <td>0.000539</td>\n",
              "      <td>0.208861</td>\n",
              "      <td>-0.303969</td>\n",
              "      <td>-0.273816</td>\n",
              "      <td>22.000000</td>\n",
              "      <td>4.000000</td>\n",
              "      <td>0.000000</td>\n",
              "    </tr>\n",
              "    <tr>\n",
              "      <th>50%</th>\n",
              "      <td>5572.500000</td>\n",
              "      <td>0.161513</td>\n",
              "      <td>-0.261028</td>\n",
              "      <td>-0.673000</td>\n",
              "      <td>-0.415641</td>\n",
              "      <td>-0.244129</td>\n",
              "      <td>-0.281473</td>\n",
              "      <td>-0.036129</td>\n",
              "      <td>-0.038384</td>\n",
              "      <td>0.068244</td>\n",
              "      <td>...</td>\n",
              "      <td>0.256874</td>\n",
              "      <td>0.683075</td>\n",
              "      <td>0.213906</td>\n",
              "      <td>0.205270</td>\n",
              "      <td>0.461389</td>\n",
              "      <td>0.021472</td>\n",
              "      <td>-0.074150</td>\n",
              "      <td>30.000000</td>\n",
              "      <td>7.000000</td>\n",
              "      <td>0.000000</td>\n",
              "    </tr>\n",
              "    <tr>\n",
              "      <th>75%</th>\n",
              "      <td>8358.250000</td>\n",
              "      <td>0.418461</td>\n",
              "      <td>-0.016541</td>\n",
              "      <td>-0.381686</td>\n",
              "      <td>0.078408</td>\n",
              "      <td>0.168207</td>\n",
              "      <td>-0.018891</td>\n",
              "      <td>0.157572</td>\n",
              "      <td>0.117311</td>\n",
              "      <td>0.399803</td>\n",
              "      <td>...</td>\n",
              "      <td>0.535327</td>\n",
              "      <td>0.981356</td>\n",
              "      <td>0.634109</td>\n",
              "      <td>0.400167</td>\n",
              "      <td>0.692926</td>\n",
              "      <td>0.405299</td>\n",
              "      <td>0.129446</td>\n",
              "      <td>38.000000</td>\n",
              "      <td>10.000000</td>\n",
              "      <td>0.000000</td>\n",
              "    </tr>\n",
              "    <tr>\n",
              "      <th>max</th>\n",
              "      <td>11144.000000</td>\n",
              "      <td>1.378549</td>\n",
              "      <td>1.376324</td>\n",
              "      <td>1.392311</td>\n",
              "      <td>2.184251</td>\n",
              "      <td>1.659698</td>\n",
              "      <td>1.667419</td>\n",
              "      <td>1.070739</td>\n",
              "      <td>1.320982</td>\n",
              "      <td>2.456948</td>\n",
              "      <td>...</td>\n",
              "      <td>1.987709</td>\n",
              "      <td>1.965830</td>\n",
              "      <td>2.582598</td>\n",
              "      <td>1.375909</td>\n",
              "      <td>1.879438</td>\n",
              "      <td>2.579186</td>\n",
              "      <td>1.674109</td>\n",
              "      <td>57.000000</td>\n",
              "      <td>27.000000</td>\n",
              "      <td>1.000000</td>\n",
              "    </tr>\n",
              "  </tbody>\n",
              "</table>\n",
              "<p>8 rows × 772 columns</p>\n",
              "</div>\n",
              "    <div class=\"colab-df-buttons\">\n",
              "\n",
              "  <div class=\"colab-df-container\">\n",
              "    <button class=\"colab-df-convert\" onclick=\"convertToInteractive('df-dad96978-1cf9-404b-a681-6b7b5ec118f4')\"\n",
              "            title=\"Convert this dataframe to an interactive table.\"\n",
              "            style=\"display:none;\">\n",
              "\n",
              "  <svg xmlns=\"http://www.w3.org/2000/svg\" height=\"24px\" viewBox=\"0 -960 960 960\">\n",
              "    <path d=\"M120-120v-720h720v720H120Zm60-500h600v-160H180v160Zm220 220h160v-160H400v160Zm0 220h160v-160H400v160ZM180-400h160v-160H180v160Zm440 0h160v-160H620v160ZM180-180h160v-160H180v160Zm440 0h160v-160H620v160Z\"/>\n",
              "  </svg>\n",
              "    </button>\n",
              "\n",
              "  <style>\n",
              "    .colab-df-container {\n",
              "      display:flex;\n",
              "      gap: 12px;\n",
              "    }\n",
              "\n",
              "    .colab-df-convert {\n",
              "      background-color: #E8F0FE;\n",
              "      border: none;\n",
              "      border-radius: 50%;\n",
              "      cursor: pointer;\n",
              "      display: none;\n",
              "      fill: #1967D2;\n",
              "      height: 32px;\n",
              "      padding: 0 0 0 0;\n",
              "      width: 32px;\n",
              "    }\n",
              "\n",
              "    .colab-df-convert:hover {\n",
              "      background-color: #E2EBFA;\n",
              "      box-shadow: 0px 1px 2px rgba(60, 64, 67, 0.3), 0px 1px 3px 1px rgba(60, 64, 67, 0.15);\n",
              "      fill: #174EA6;\n",
              "    }\n",
              "\n",
              "    .colab-df-buttons div {\n",
              "      margin-bottom: 4px;\n",
              "    }\n",
              "\n",
              "    [theme=dark] .colab-df-convert {\n",
              "      background-color: #3B4455;\n",
              "      fill: #D2E3FC;\n",
              "    }\n",
              "\n",
              "    [theme=dark] .colab-df-convert:hover {\n",
              "      background-color: #434B5C;\n",
              "      box-shadow: 0px 1px 3px 1px rgba(0, 0, 0, 0.15);\n",
              "      filter: drop-shadow(0px 1px 2px rgba(0, 0, 0, 0.3));\n",
              "      fill: #FFFFFF;\n",
              "    }\n",
              "  </style>\n",
              "\n",
              "    <script>\n",
              "      const buttonEl =\n",
              "        document.querySelector('#df-dad96978-1cf9-404b-a681-6b7b5ec118f4 button.colab-df-convert');\n",
              "      buttonEl.style.display =\n",
              "        google.colab.kernel.accessAllowed ? 'block' : 'none';\n",
              "\n",
              "      async function convertToInteractive(key) {\n",
              "        const element = document.querySelector('#df-dad96978-1cf9-404b-a681-6b7b5ec118f4');\n",
              "        const dataTable =\n",
              "          await google.colab.kernel.invokeFunction('convertToInteractive',\n",
              "                                                    [key], {});\n",
              "        if (!dataTable) return;\n",
              "\n",
              "        const docLinkHtml = 'Like what you see? Visit the ' +\n",
              "          '<a target=\"_blank\" href=https://colab.research.google.com/notebooks/data_table.ipynb>data table notebook</a>'\n",
              "          + ' to learn more about interactive tables.';\n",
              "        element.innerHTML = '';\n",
              "        dataTable['output_type'] = 'display_data';\n",
              "        await google.colab.output.renderOutput(dataTable, element);\n",
              "        const docLink = document.createElement('div');\n",
              "        docLink.innerHTML = docLinkHtml;\n",
              "        element.appendChild(docLink);\n",
              "      }\n",
              "    </script>\n",
              "  </div>\n",
              "\n",
              "\n",
              "<div id=\"df-fce9e8f9-52e1-4672-8f8b-a42c3c545d8f\">\n",
              "  <button class=\"colab-df-quickchart\" onclick=\"quickchart('df-fce9e8f9-52e1-4672-8f8b-a42c3c545d8f')\"\n",
              "            title=\"Suggest charts\"\n",
              "            style=\"display:none;\">\n",
              "\n",
              "<svg xmlns=\"http://www.w3.org/2000/svg\" height=\"24px\"viewBox=\"0 0 24 24\"\n",
              "     width=\"24px\">\n",
              "    <g>\n",
              "        <path d=\"M19 3H5c-1.1 0-2 .9-2 2v14c0 1.1.9 2 2 2h14c1.1 0 2-.9 2-2V5c0-1.1-.9-2-2-2zM9 17H7v-7h2v7zm4 0h-2V7h2v10zm4 0h-2v-4h2v4z\"/>\n",
              "    </g>\n",
              "</svg>\n",
              "  </button>\n",
              "\n",
              "<style>\n",
              "  .colab-df-quickchart {\n",
              "      --bg-color: #E8F0FE;\n",
              "      --fill-color: #1967D2;\n",
              "      --hover-bg-color: #E2EBFA;\n",
              "      --hover-fill-color: #174EA6;\n",
              "      --disabled-fill-color: #AAA;\n",
              "      --disabled-bg-color: #DDD;\n",
              "  }\n",
              "\n",
              "  [theme=dark] .colab-df-quickchart {\n",
              "      --bg-color: #3B4455;\n",
              "      --fill-color: #D2E3FC;\n",
              "      --hover-bg-color: #434B5C;\n",
              "      --hover-fill-color: #FFFFFF;\n",
              "      --disabled-bg-color: #3B4455;\n",
              "      --disabled-fill-color: #666;\n",
              "  }\n",
              "\n",
              "  .colab-df-quickchart {\n",
              "    background-color: var(--bg-color);\n",
              "    border: none;\n",
              "    border-radius: 50%;\n",
              "    cursor: pointer;\n",
              "    display: none;\n",
              "    fill: var(--fill-color);\n",
              "    height: 32px;\n",
              "    padding: 0;\n",
              "    width: 32px;\n",
              "  }\n",
              "\n",
              "  .colab-df-quickchart:hover {\n",
              "    background-color: var(--hover-bg-color);\n",
              "    box-shadow: 0 1px 2px rgba(60, 64, 67, 0.3), 0 1px 3px 1px rgba(60, 64, 67, 0.15);\n",
              "    fill: var(--button-hover-fill-color);\n",
              "  }\n",
              "\n",
              "  .colab-df-quickchart-complete:disabled,\n",
              "  .colab-df-quickchart-complete:disabled:hover {\n",
              "    background-color: var(--disabled-bg-color);\n",
              "    fill: var(--disabled-fill-color);\n",
              "    box-shadow: none;\n",
              "  }\n",
              "\n",
              "  .colab-df-spinner {\n",
              "    border: 2px solid var(--fill-color);\n",
              "    border-color: transparent;\n",
              "    border-bottom-color: var(--fill-color);\n",
              "    animation:\n",
              "      spin 1s steps(1) infinite;\n",
              "  }\n",
              "\n",
              "  @keyframes spin {\n",
              "    0% {\n",
              "      border-color: transparent;\n",
              "      border-bottom-color: var(--fill-color);\n",
              "      border-left-color: var(--fill-color);\n",
              "    }\n",
              "    20% {\n",
              "      border-color: transparent;\n",
              "      border-left-color: var(--fill-color);\n",
              "      border-top-color: var(--fill-color);\n",
              "    }\n",
              "    30% {\n",
              "      border-color: transparent;\n",
              "      border-left-color: var(--fill-color);\n",
              "      border-top-color: var(--fill-color);\n",
              "      border-right-color: var(--fill-color);\n",
              "    }\n",
              "    40% {\n",
              "      border-color: transparent;\n",
              "      border-right-color: var(--fill-color);\n",
              "      border-top-color: var(--fill-color);\n",
              "    }\n",
              "    60% {\n",
              "      border-color: transparent;\n",
              "      border-right-color: var(--fill-color);\n",
              "    }\n",
              "    80% {\n",
              "      border-color: transparent;\n",
              "      border-right-color: var(--fill-color);\n",
              "      border-bottom-color: var(--fill-color);\n",
              "    }\n",
              "    90% {\n",
              "      border-color: transparent;\n",
              "      border-bottom-color: var(--fill-color);\n",
              "    }\n",
              "  }\n",
              "</style>\n",
              "\n",
              "  <script>\n",
              "    async function quickchart(key) {\n",
              "      const quickchartButtonEl =\n",
              "        document.querySelector('#' + key + ' button');\n",
              "      quickchartButtonEl.disabled = true;  // To prevent multiple clicks.\n",
              "      quickchartButtonEl.classList.add('colab-df-spinner');\n",
              "      try {\n",
              "        const charts = await google.colab.kernel.invokeFunction(\n",
              "            'suggestCharts', [key], {});\n",
              "      } catch (error) {\n",
              "        console.error('Error during call to suggestCharts:', error);\n",
              "      }\n",
              "      quickchartButtonEl.classList.remove('colab-df-spinner');\n",
              "      quickchartButtonEl.classList.add('colab-df-quickchart-complete');\n",
              "    }\n",
              "    (() => {\n",
              "      let quickchartButtonEl =\n",
              "        document.querySelector('#df-fce9e8f9-52e1-4672-8f8b-a42c3c545d8f button');\n",
              "      quickchartButtonEl.style.display =\n",
              "        google.colab.kernel.accessAllowed ? 'block' : 'none';\n",
              "    })();\n",
              "  </script>\n",
              "</div>\n",
              "\n",
              "    </div>\n",
              "  </div>\n"
            ]
          },
          "metadata": {},
          "execution_count": 9
        }
      ]
    },
    {
      "cell_type": "markdown",
      "source": [
        "### 🔵 Distribution of Target Variable"
      ],
      "metadata": {
        "id": "y4vUDx4bcsz8"
      }
    },
    {
      "cell_type": "code",
      "source": [
        "# checking the distribution of target variable\n",
        "df['ind'].value_counts()"
      ],
      "metadata": {
        "id": "PfNAJsvOciDJ",
        "colab": {
          "base_uri": "https://localhost:8080/"
        },
        "outputId": "d1ce445e-947d-4d30-f355-d6d97116b509"
      },
      "execution_count": 10,
      "outputs": [
        {
          "output_type": "execute_result",
          "data": {
            "text/plain": [
              "0    10044\n",
              "1     1100\n",
              "Name: ind, dtype: int64"
            ]
          },
          "metadata": {},
          "execution_count": 10
        }
      ]
    },
    {
      "cell_type": "markdown",
      "source": [
        "--> The number of 1 is almost 10% of the complete dataset. If the future model does not perform well without any sampling technique, this will help us to use any of the sampling techniques."
      ],
      "metadata": {
        "id": "2IrKwwJYc0Xm"
      }
    },
    {
      "cell_type": "markdown",
      "source": [
        "# 🔴 Cleaning Data"
      ],
      "metadata": {
        "id": "sc52ZG7Gaq1z"
      }
    },
    {
      "cell_type": "markdown",
      "source": [
        "## 🟡 Checking DataType"
      ],
      "metadata": {
        "id": "ZQEgVtBHbBuC"
      }
    },
    {
      "cell_type": "code",
      "execution_count": 11,
      "metadata": {
        "id": "46Cw972Wer0q",
        "colab": {
          "base_uri": "https://localhost:8080/"
        },
        "outputId": "9b1f3c20-8ed3-4a30-babf-eba2f920523e"
      },
      "outputs": [
        {
          "output_type": "stream",
          "name": "stdout",
          "text": [
            "<class 'pandas.core.frame.DataFrame'>\n",
            "RangeIndex: 11144 entries, 0 to 11143\n",
            "Columns: 772 entries, ID to ind\n",
            "dtypes: float64(768), int64(4)\n",
            "memory usage: 65.6 MB\n"
          ]
        }
      ],
      "source": [
        "# Checking the Datatype\n",
        "df.info()"
      ]
    },
    {
      "cell_type": "code",
      "source": [
        "#Confirming the datatype\n",
        "df.dtypes"
      ],
      "metadata": {
        "id": "D1NPb34AZ43j",
        "colab": {
          "base_uri": "https://localhost:8080/"
        },
        "outputId": "63cc0162-baa7-4703-b0a6-6d3beff46b06"
      },
      "execution_count": 12,
      "outputs": [
        {
          "output_type": "execute_result",
          "data": {
            "text/plain": [
              "ID               int64\n",
              "feature_0      float64\n",
              "feature_1      float64\n",
              "feature_2      float64\n",
              "feature_3      float64\n",
              "                ...   \n",
              "feature_766    float64\n",
              "feature_767    float64\n",
              "word_count       int64\n",
              "punc_num         int64\n",
              "ind              int64\n",
              "Length: 772, dtype: object"
            ]
          },
          "metadata": {},
          "execution_count": 12
        }
      ]
    },
    {
      "cell_type": "markdown",
      "source": [
        "--> The data type for all the predictor variable looks good. So not making any conversion for the data types of the varible"
      ],
      "metadata": {
        "id": "SiRnCJZ1azbs"
      }
    },
    {
      "cell_type": "markdown",
      "source": [
        "## 🟡 Checking for Null Values"
      ],
      "metadata": {
        "id": "4_4HAXxkaSSL"
      }
    },
    {
      "cell_type": "code",
      "source": [
        "#Checking Null values for each column in the dataset\n",
        "df.isnull().sum()"
      ],
      "metadata": {
        "id": "TtFbnMO0aW9j",
        "colab": {
          "base_uri": "https://localhost:8080/"
        },
        "outputId": "d9de145d-9670-47c4-a624-68add0b586c6"
      },
      "execution_count": 13,
      "outputs": [
        {
          "output_type": "execute_result",
          "data": {
            "text/plain": [
              "ID             0\n",
              "feature_0      0\n",
              "feature_1      0\n",
              "feature_2      0\n",
              "feature_3      0\n",
              "              ..\n",
              "feature_766    0\n",
              "feature_767    0\n",
              "word_count     0\n",
              "punc_num       0\n",
              "ind            0\n",
              "Length: 772, dtype: int64"
            ]
          },
          "metadata": {},
          "execution_count": 13
        }
      ]
    },
    {
      "cell_type": "code",
      "execution_count": 14,
      "metadata": {
        "id": "gm-mJbcyeuRt",
        "colab": {
          "base_uri": "https://localhost:8080/"
        },
        "outputId": "d126fc9a-e551-4847-c819-9172f885732e"
      },
      "outputs": [
        {
          "output_type": "execute_result",
          "data": {
            "text/plain": [
              "0"
            ]
          },
          "metadata": {},
          "execution_count": 14
        }
      ],
      "source": [
        "#Confirming the total null values in the dataframe\n",
        "df.isnull().sum().sum()"
      ]
    },
    {
      "cell_type": "markdown",
      "source": [
        "--> There are no null values in the complete dataset. The dat set is clean and does not require any cleaning"
      ],
      "metadata": {
        "id": "88aI6QECbygM"
      }
    },
    {
      "cell_type": "markdown",
      "source": [
        "# 🔴 Exploratory Data Analysis"
      ],
      "metadata": {
        "id": "JBJloPmBde96"
      }
    },
    {
      "cell_type": "markdown",
      "source": [
        "## 💛  Plot 1 - HeatMap for Predictor variables with Correlation > 0.15 with Target Variable"
      ],
      "metadata": {
        "id": "QHXDukYFkGjE"
      }
    },
    {
      "cell_type": "code",
      "source": [
        "# Calculating the correlation matrix\n",
        "corr = df.corr()\n",
        "\n",
        "# Assgning 'ind' to target variable\n",
        "target_variable = 'ind'\n",
        "\n",
        "# Filtering variables that have correlation greater than 0.15 (positive or negative) with the target variable\n",
        "correlated_vars = corr[(corr[target_variable] > 0.15) | (corr[target_variable] < -0.15)].index\n",
        "\n",
        "# Extracting the correlation matrix for the correlated variables\n",
        "correlated_matrix = df[correlated_vars].corr()\n",
        "\n",
        "# size of the plot\n",
        "plt.figure(figsize=(16, 12))\n",
        "\n",
        "# Creating a heatmap for the correlated variable\n",
        "sns.heatmap(correlated_matrix, annot=True, cmap='coolwarm', fmt=\".2f\")\n",
        "\n",
        "# Displaying the heatmap\n",
        "\n",
        "plt.title(\"Correlation Heatmap for Variables with Correlation > 0.15 with 'ind'\")\n",
        "plt.show()\n"
      ],
      "metadata": {
        "id": "777E_eD0mD_J",
        "colab": {
          "base_uri": "https://localhost:8080/",
          "height": 738
        },
        "outputId": "a7174b11-e470-45f2-d460-f13f87a8f2a0"
      },
      "execution_count": 15,
      "outputs": [
        {
          "output_type": "display_data",
          "data": {
            "text/plain": [
              "<Figure size 1600x1200 with 2 Axes>"
            ],
            "image/png": "[encoded data removed]"
          },
          "metadata": {}
        }
      ]
    },
    {
      "cell_type": "markdown",
      "source": [
        "\n",
        "1.  The below figure will give an understanding of the predictor variables having an strong correlation with the Target Variable.\n",
        "2. 17 predictor variables have a very good correlation with a value greater than 0.15(strongly and negatively correlated)\n",
        "3. These seventeen variables will be used to make a model in the future to see how the model performs with only seventeen predictor variables while comparing it to a model with all the predictor variables(771) (Ind will be excluded from all the models in future)"
      ],
      "metadata": {
        "id": "8fr1dD_KnoHs"
      }
    },
    {
      "cell_type": "markdown",
      "source": [
        "## 🧡 Plot 2 - Distribution of word_count & punc_num with ind"
      ],
      "metadata": {
        "id": "zobBCvSIqeyT"
      }
    },
    {
      "cell_type": "code",
      "source": [
        "# Selecting the required variables\n",
        "selected_variables = ['word_count', 'punc_num', 'ind']\n",
        "selected_df = df[selected_variables]\n",
        "\n",
        "\n",
        "# size of the figure\n",
        "fig, axes = plt.subplots(nrows=1, ncols=2, figsize=(12, 6))\n",
        "\n",
        "# Creating histogram for 'word_count' with respect to 'ind'\n",
        "sns.histplot(data=selected_df, x='word_count', hue='ind', kde=True, ax=axes[0], palette='viridis')\n",
        "axes[0].set_title('Distribution of word_count with respect to ind')\n",
        "\n",
        "# Creating histogram for 'punc_num' with respect to 'ind'\n",
        "sns.histplot(data=selected_df, x='punc_num', hue='ind', kde=True, ax=axes[1], palette='viridis')\n",
        "axes[1].set_title('Distribution of punc_num with respect to ind')\n",
        "\n",
        "# Adjusting the layout\n",
        "plt.tight_layout()\n",
        "\n",
        "# Display the plots\n",
        "plt.show()\n"
      ],
      "metadata": {
        "id": "GZzPbAb4oVT2",
        "colab": {
          "base_uri": "https://localhost:8080/",
          "height": 442
        },
        "outputId": "8752ee0d-730a-419c-949f-2e5e65592ead"
      },
      "execution_count": 16,
      "outputs": [
        {
          "output_type": "display_data",
          "data": {
            "text/plain": [
              "<Figure size 1200x600 with 2 Axes>"
            ],
            "image/png": "[encoded data removed]"
          },
          "metadata": {}
        }
      ]
    },
    {
      "cell_type": "markdown",
      "source": [
        "1. As all the predictor variables are document embeddings only word count and punctuation are a little different set of predictors. So checking the skewness of those predictor variables on the target variable.\n",
        "2. Also punctuations has a very good correlation of -0.21 in the plot1 heatmap, so the distribution of the punctuation will give a good understanding of its relationship with the target variable ind. The heatmap and distribution plot indicates punctaution will be one of the important predictor variable in our models.\n"
      ],
      "metadata": {
        "id": "qx5f47_JrPoc"
      }
    },
    {
      "cell_type": "markdown",
      "source": [
        "## 💜 plot 3 - Distribution of the Target variable"
      ],
      "metadata": {
        "id": "vqognARQrFtE"
      }
    },
    {
      "cell_type": "code",
      "execution_count": 17,
      "metadata": {
        "id": "V01-ercNfA7M",
        "colab": {
          "base_uri": "https://localhost:8080/",
          "height": 564
        },
        "outputId": "b6e40a8c-7824-4979-dbc0-e9418f2e4ee8"
      },
      "outputs": [
        {
          "output_type": "display_data",
          "data": {
            "text/plain": [
              "<Figure size 800x600 with 1 Axes>"
            ],
            "image/png": "[encoded data removed]"
          },
          "metadata": {}
        }
      ],
      "source": [
        "#Distribution of target variable\n",
        "plt.figure(figsize=(8, 6))\n",
        "sns.countplot(x='ind', data=df)\n",
        "plt.title('Distribution of ind')\n",
        "plt.show()\n"
      ]
    },
    {
      "cell_type": "markdown",
      "source": [
        "The distribution of target variable is a simple plot. But this will give us a visual representation of the target variables and will motivate us to use sampling techniques in the future if any of our models doesnt give good results without sampling."
      ],
      "metadata": {
        "id": "F-ikgUpiwmBy"
      }
    },
    {
      "cell_type": "markdown",
      "source": [
        "## 💗 Table-1 showing the relationship between puntuations, wordcount and AI"
      ],
      "metadata": {
        "id": "vV7ylXsxv9vK"
      }
    },
    {
      "cell_type": "code",
      "source": [
        "# Filtering all the AI based on the condition punctuation less than average punctuation and word count is less than the average word count\n",
        "tmp_df = df[(df['punc_num'] < 7) & (df['word_count'] < 30) & (df['ind'] == 1)]\n",
        "\n",
        "tmp_df.head()\n"
      ],
      "metadata": {
        "id": "EmvWptIZvkFj",
        "colab": {
          "base_uri": "https://localhost:8080/",
          "height": 255
        },
        "outputId": "fd280398-124c-4e79-fb16-49828a284bdd"
      },
      "execution_count": 18,
      "outputs": [
        {
          "output_type": "execute_result",
          "data": {
            "text/plain": [
              "    ID  feature_0  feature_1  feature_2  feature_3  feature_4  feature_5  \\\n",
              "7    8  -0.624960  -0.435477  -0.522379  -0.053120  -0.317254  -0.112471   \n",
              "16  17   0.077158  -0.570118  -0.705506  -0.571611   0.617590   0.022175   \n",
              "27  28   0.406011  -0.206171  -0.145640  -0.935956  -0.378325   0.218590   \n",
              "31  32   0.309831  -0.340374  -0.906732  -0.922133   0.140278  -0.253113   \n",
              "51  52  -0.256521  -0.315273  -0.844355   0.585292  -0.106645  -0.479173   \n",
              "\n",
              "    feature_6  feature_7  feature_8  ...  feature_761  feature_762  \\\n",
              "7   -0.273967  -0.683952   0.132532  ...     0.348688     0.062755   \n",
              "16   0.390946  -0.121072   0.687683  ...    -0.090661     0.822914   \n",
              "27   0.139799  -0.361850  -0.356984  ...     1.300395     0.759779   \n",
              "31   0.233457  -0.407649  -0.313792  ...     0.500929     0.965819   \n",
              "51  -0.213332  -0.313532  -0.420186  ...     0.058329     0.311364   \n",
              "\n",
              "    feature_763  feature_764  feature_765  feature_766  feature_767  \\\n",
              "7      0.973341    -0.025976     0.275548     1.068583     0.010488   \n",
              "16     0.674257    -0.289962     0.076699     0.489542    -0.377378   \n",
              "27     0.538289     0.081404     0.327490     0.969756     0.266455   \n",
              "31     0.619885     0.789653     0.789480    -0.541472     0.099234   \n",
              "51     0.919537     0.529552     0.215953     0.289903     0.427552   \n",
              "\n",
              "    word_count  punc_num  ind  \n",
              "7           14         1    1  \n",
              "16          23         1    1  \n",
              "27          26         1    1  \n",
              "31          28         5    1  \n",
              "51          25         5    1  \n",
              "\n",
              "[5 rows x 772 columns]"
            ],
            "text/html": [
              "\n",
              "  <div id=\"df-ceed867f-7114-4711-9f33-f993c1cbb8d5\" class=\"colab-df-container\">\n",
              "    <div>\n",
              "<style scoped>\n",
              "    .dataframe tbody tr th:only-of-type {\n",
              "        vertical-align: middle;\n",
              "    }\n",
              "\n",
              "    .dataframe tbody tr th {\n",
              "        vertical-align: top;\n",
              "    }\n",
              "\n",
              "    .dataframe thead th {\n",
              "        text-align: right;\n",
              "    }\n",
              "</style>\n",
              "<table border=\"1\" class=\"dataframe\">\n",
              "  <thead>\n",
              "    <tr style=\"text-align: right;\">\n",
              "      <th></th>\n",
              "      <th>ID</th>\n",
              "      <th>feature_0</th>\n",
              "      <th>feature_1</th>\n",
              "      <th>feature_2</th>\n",
              "      <th>feature_3</th>\n",
              "      <th>feature_4</th>\n",
              "      <th>feature_5</th>\n",
              "      <th>feature_6</th>\n",
              "      <th>feature_7</th>\n",
              "      <th>feature_8</th>\n",
              "      <th>...</th>\n",
              "      <th>feature_761</th>\n",
              "      <th>feature_762</th>\n",
              "      <th>feature_763</th>\n",
              "      <th>feature_764</th>\n",
              "      <th>feature_765</th>\n",
              "      <th>feature_766</th>\n",
              "      <th>feature_767</th>\n",
              "      <th>word_count</th>\n",
              "      <th>punc_num</th>\n",
              "      <th>ind</th>\n",
              "    </tr>\n",
              "  </thead>\n",
              "  <tbody>\n",
              "    <tr>\n",
              "      <th>7</th>\n",
              "      <td>8</td>\n",
              "      <td>-0.624960</td>\n",
              "      <td>-0.435477</td>\n",
              "      <td>-0.522379</td>\n",
              "      <td>-0.053120</td>\n",
              "      <td>-0.317254</td>\n",
              "      <td>-0.112471</td>\n",
              "      <td>-0.273967</td>\n",
              "      <td>-0.683952</td>\n",
              "      <td>0.132532</td>\n",
              "      <td>...</td>\n",
              "      <td>0.348688</td>\n",
              "      <td>0.062755</td>\n",
              "      <td>0.973341</td>\n",
              "      <td>-0.025976</td>\n",
              "      <td>0.275548</td>\n",
              "      <td>1.068583</td>\n",
              "      <td>0.010488</td>\n",
              "      <td>14</td>\n",
              "      <td>1</td>\n",
              "      <td>1</td>\n",
              "    </tr>\n",
              "    <tr>\n",
              "      <th>16</th>\n",
              "      <td>17</td>\n",
              "      <td>0.077158</td>\n",
              "      <td>-0.570118</td>\n",
              "      <td>-0.705506</td>\n",
              "      <td>-0.571611</td>\n",
              "      <td>0.617590</td>\n",
              "      <td>0.022175</td>\n",
              "      <td>0.390946</td>\n",
              "      <td>-0.121072</td>\n",
              "      <td>0.687683</td>\n",
              "      <td>...</td>\n",
              "      <td>-0.090661</td>\n",
              "      <td>0.822914</td>\n",
              "      <td>0.674257</td>\n",
              "      <td>-0.289962</td>\n",
              "      <td>0.076699</td>\n",
              "      <td>0.489542</td>\n",
              "      <td>-0.377378</td>\n",
              "      <td>23</td>\n",
              "      <td>1</td>\n",
              "      <td>1</td>\n",
              "    </tr>\n",
              "    <tr>\n",
              "      <th>27</th>\n",
              "      <td>28</td>\n",
              "      <td>0.406011</td>\n",
              "      <td>-0.206171</td>\n",
              "      <td>-0.145640</td>\n",
              "      <td>-0.935956</td>\n",
              "      <td>-0.378325</td>\n",
              "      <td>0.218590</td>\n",
              "      <td>0.139799</td>\n",
              "      <td>-0.361850</td>\n",
              "      <td>-0.356984</td>\n",
              "      <td>...</td>\n",
              "      <td>1.300395</td>\n",
              "      <td>0.759779</td>\n",
              "      <td>0.538289</td>\n",
              "      <td>0.081404</td>\n",
              "      <td>0.327490</td>\n",
              "      <td>0.969756</td>\n",
              "      <td>0.266455</td>\n",
              "      <td>26</td>\n",
              "      <td>1</td>\n",
              "      <td>1</td>\n",
              "    </tr>\n",
              "    <tr>\n",
              "      <th>31</th>\n",
              "      <td>32</td>\n",
              "      <td>0.309831</td>\n",
              "      <td>-0.340374</td>\n",
              "      <td>-0.906732</td>\n",
              "      <td>-0.922133</td>\n",
              "      <td>0.140278</td>\n",
              "      <td>-0.253113</td>\n",
              "      <td>0.233457</td>\n",
              "      <td>-0.407649</td>\n",
              "      <td>-0.313792</td>\n",
              "      <td>...</td>\n",
              "      <td>0.500929</td>\n",
              "      <td>0.965819</td>\n",
              "      <td>0.619885</td>\n",
              "      <td>0.789653</td>\n",
              "      <td>0.789480</td>\n",
              "      <td>-0.541472</td>\n",
              "      <td>0.099234</td>\n",
              "      <td>28</td>\n",
              "      <td>5</td>\n",
              "      <td>1</td>\n",
              "    </tr>\n",
              "    <tr>\n",
              "      <th>51</th>\n",
              "      <td>52</td>\n",
              "      <td>-0.256521</td>\n",
              "      <td>-0.315273</td>\n",
              "      <td>-0.844355</td>\n",
              "      <td>0.585292</td>\n",
              "      <td>-0.106645</td>\n",
              "      <td>-0.479173</td>\n",
              "      <td>-0.213332</td>\n",
              "      <td>-0.313532</td>\n",
              "      <td>-0.420186</td>\n",
              "      <td>...</td>\n",
              "      <td>0.058329</td>\n",
              "      <td>0.311364</td>\n",
              "      <td>0.919537</td>\n",
              "      <td>0.529552</td>\n",
              "      <td>0.215953</td>\n",
              "      <td>0.289903</td>\n",
              "      <td>0.427552</td>\n",
              "      <td>25</td>\n",
              "      <td>5</td>\n",
              "      <td>1</td>\n",
              "    </tr>\n",
              "  </tbody>\n",
              "</table>\n",
              "<p>5 rows × 772 columns</p>\n",
              "</div>\n",
              "    <div class=\"colab-df-buttons\">\n",
              "\n",
              "  <div class=\"colab-df-container\">\n",
              "    <button class=\"colab-df-convert\" onclick=\"convertToInteractive('df-ceed867f-7114-4711-9f33-f993c1cbb8d5')\"\n",
              "            title=\"Convert this dataframe to an interactive table.\"\n",
              "            style=\"display:none;\">\n",
              "\n",
              "  <svg xmlns=\"http://www.w3.org/2000/svg\" height=\"24px\" viewBox=\"0 -960 960 960\">\n",
              "    <path d=\"M120-120v-720h720v720H120Zm60-500h600v-160H180v160Zm220 220h160v-160H400v160Zm0 220h160v-160H400v160ZM180-400h160v-160H180v160Zm440 0h160v-160H620v160ZM180-180h160v-160H180v160Zm440 0h160v-160H620v160Z\"/>\n",
              "  </svg>\n",
              "    </button>\n",
              "\n",
              "  <style>\n",
              "    .colab-df-container {\n",
              "      display:flex;\n",
              "      gap: 12px;\n",
              "    }\n",
              "\n",
              "    .colab-df-convert {\n",
              "      background-color: #E8F0FE;\n",
              "      border: none;\n",
              "      border-radius: 50%;\n",
              "      cursor: pointer;\n",
              "      display: none;\n",
              "      fill: #1967D2;\n",
              "      height: 32px;\n",
              "      padding: 0 0 0 0;\n",
              "      width: 32px;\n",
              "    }\n",
              "\n",
              "    .colab-df-convert:hover {\n",
              "      background-color: #E2EBFA;\n",
              "      box-shadow: 0px 1px 2px rgba(60, 64, 67, 0.3), 0px 1px 3px 1px rgba(60, 64, 67, 0.15);\n",
              "      fill: #174EA6;\n",
              "    }\n",
              "\n",
              "    .colab-df-buttons div {\n",
              "      margin-bottom: 4px;\n",
              "    }\n",
              "\n",
              "    [theme=dark] .colab-df-convert {\n",
              "      background-color: #3B4455;\n",
              "      fill: #D2E3FC;\n",
              "    }\n",
              "\n",
              "    [theme=dark] .colab-df-convert:hover {\n",
              "      background-color: #434B5C;\n",
              "      box-shadow: 0px 1px 3px 1px rgba(0, 0, 0, 0.15);\n",
              "      filter: drop-shadow(0px 1px 2px rgba(0, 0, 0, 0.3));\n",
              "      fill: #FFFFFF;\n",
              "    }\n",
              "  </style>\n",
              "\n",
              "    <script>\n",
              "      const buttonEl =\n",
              "        document.querySelector('#df-ceed867f-7114-4711-9f33-f993c1cbb8d5 button.colab-df-convert');\n",
              "      buttonEl.style.display =\n",
              "        google.colab.kernel.accessAllowed ? 'block' : 'none';\n",
              "\n",
              "      async function convertToInteractive(key) {\n",
              "        const element = document.querySelector('#df-ceed867f-7114-4711-9f33-f993c1cbb8d5');\n",
              "        const dataTable =\n",
              "          await google.colab.kernel.invokeFunction('convertToInteractive',\n",
              "                                                    [key], {});\n",
              "        if (!dataTable) return;\n",
              "\n",
              "        const docLinkHtml = 'Like what you see? Visit the ' +\n",
              "          '<a target=\"_blank\" href=https://colab.research.google.com/notebooks/data_table.ipynb>data table notebook</a>'\n",
              "          + ' to learn more about interactive tables.';\n",
              "        element.innerHTML = '';\n",
              "        dataTable['output_type'] = 'display_data';\n",
              "        await google.colab.output.renderOutput(dataTable, element);\n",
              "        const docLink = document.createElement('div');\n",
              "        docLink.innerHTML = docLinkHtml;\n",
              "        element.appendChild(docLink);\n",
              "      }\n",
              "    </script>\n",
              "  </div>\n",
              "\n",
              "\n",
              "<div id=\"df-e795c5cc-389f-48ff-85b6-d7dfc3f07f10\">\n",
              "  <button class=\"colab-df-quickchart\" onclick=\"quickchart('df-e795c5cc-389f-48ff-85b6-d7dfc3f07f10')\"\n",
              "            title=\"Suggest charts\"\n",
              "            style=\"display:none;\">\n",
              "\n",
              "<svg xmlns=\"http://www.w3.org/2000/svg\" height=\"24px\"viewBox=\"0 0 24 24\"\n",
              "     width=\"24px\">\n",
              "    <g>\n",
              "        <path d=\"M19 3H5c-1.1 0-2 .9-2 2v14c0 1.1.9 2 2 2h14c1.1 0 2-.9 2-2V5c0-1.1-.9-2-2-2zM9 17H7v-7h2v7zm4 0h-2V7h2v10zm4 0h-2v-4h2v4z\"/>\n",
              "    </g>\n",
              "</svg>\n",
              "  </button>\n",
              "\n",
              "<style>\n",
              "  .colab-df-quickchart {\n",
              "      --bg-color: #E8F0FE;\n",
              "      --fill-color: #1967D2;\n",
              "      --hover-bg-color: #E2EBFA;\n",
              "      --hover-fill-color: #174EA6;\n",
              "      --disabled-fill-color: #AAA;\n",
              "      --disabled-bg-color: #DDD;\n",
              "  }\n",
              "\n",
              "  [theme=dark] .colab-df-quickchart {\n",
              "      --bg-color: #3B4455;\n",
              "      --fill-color: #D2E3FC;\n",
              "      --hover-bg-color: #434B5C;\n",
              "      --hover-fill-color: #FFFFFF;\n",
              "      --disabled-bg-color: #3B4455;\n",
              "      --disabled-fill-color: #666;\n",
              "  }\n",
              "\n",
              "  .colab-df-quickchart {\n",
              "    background-color: var(--bg-color);\n",
              "    border: none;\n",
              "    border-radius: 50%;\n",
              "    cursor: pointer;\n",
              "    display: none;\n",
              "    fill: var(--fill-color);\n",
              "    height: 32px;\n",
              "    padding: 0;\n",
              "    width: 32px;\n",
              "  }\n",
              "\n",
              "  .colab-df-quickchart:hover {\n",
              "    background-color: var(--hover-bg-color);\n",
              "    box-shadow: 0 1px 2px rgba(60, 64, 67, 0.3), 0 1px 3px 1px rgba(60, 64, 67, 0.15);\n",
              "    fill: var(--button-hover-fill-color);\n",
              "  }\n",
              "\n",
              "  .colab-df-quickchart-complete:disabled,\n",
              "  .colab-df-quickchart-complete:disabled:hover {\n",
              "    background-color: var(--disabled-bg-color);\n",
              "    fill: var(--disabled-fill-color);\n",
              "    box-shadow: none;\n",
              "  }\n",
              "\n",
              "  .colab-df-spinner {\n",
              "    border: 2px solid var(--fill-color);\n",
              "    border-color: transparent;\n",
              "    border-bottom-color: var(--fill-color);\n",
              "    animation:\n",
              "      spin 1s steps(1) infinite;\n",
              "  }\n",
              "\n",
              "  @keyframes spin {\n",
              "    0% {\n",
              "      border-color: transparent;\n",
              "      border-bottom-color: var(--fill-color);\n",
              "      border-left-color: var(--fill-color);\n",
              "    }\n",
              "    20% {\n",
              "      border-color: transparent;\n",
              "      border-left-color: var(--fill-color);\n",
              "      border-top-color: var(--fill-color);\n",
              "    }\n",
              "    30% {\n",
              "      border-color: transparent;\n",
              "      border-left-color: var(--fill-color);\n",
              "      border-top-color: var(--fill-color);\n",
              "      border-right-color: var(--fill-color);\n",
              "    }\n",
              "    40% {\n",
              "      border-color: transparent;\n",
              "      border-right-color: var(--fill-color);\n",
              "      border-top-color: var(--fill-color);\n",
              "    }\n",
              "    60% {\n",
              "      border-color: transparent;\n",
              "      border-right-color: var(--fill-color);\n",
              "    }\n",
              "    80% {\n",
              "      border-color: transparent;\n",
              "      border-right-color: var(--fill-color);\n",
              "      border-bottom-color: var(--fill-color);\n",
              "    }\n",
              "    90% {\n",
              "      border-color: transparent;\n",
              "      border-bottom-color: var(--fill-color);\n",
              "    }\n",
              "  }\n",
              "</style>\n",
              "\n",
              "  <script>\n",
              "    async function quickchart(key) {\n",
              "      const quickchartButtonEl =\n",
              "        document.querySelector('#' + key + ' button');\n",
              "      quickchartButtonEl.disabled = true;  // To prevent multiple clicks.\n",
              "      quickchartButtonEl.classList.add('colab-df-spinner');\n",
              "      try {\n",
              "        const charts = await google.colab.kernel.invokeFunction(\n",
              "            'suggestCharts', [key], {});\n",
              "      } catch (error) {\n",
              "        console.error('Error during call to suggestCharts:', error);\n",
              "      }\n",
              "      quickchartButtonEl.classList.remove('colab-df-spinner');\n",
              "      quickchartButtonEl.classList.add('colab-df-quickchart-complete');\n",
              "    }\n",
              "    (() => {\n",
              "      let quickchartButtonEl =\n",
              "        document.querySelector('#df-e795c5cc-389f-48ff-85b6-d7dfc3f07f10 button');\n",
              "      quickchartButtonEl.style.display =\n",
              "        google.colab.kernel.accessAllowed ? 'block' : 'none';\n",
              "    })();\n",
              "  </script>\n",
              "</div>\n",
              "\n",
              "    </div>\n",
              "  </div>\n"
            ]
          },
          "metadata": {},
          "execution_count": 18
        }
      ]
    },
    {
      "cell_type": "code",
      "source": [
        "tmp_df['ind'].value_counts()"
      ],
      "metadata": {
        "id": "V8HeUy6E0QMQ",
        "colab": {
          "base_uri": "https://localhost:8080/"
        },
        "outputId": "f60b6b81-43b5-4457-95a6-6a7ab43db3a1"
      },
      "execution_count": 19,
      "outputs": [
        {
          "output_type": "execute_result",
          "data": {
            "text/plain": [
              "1    514\n",
              "Name: ind, dtype: int64"
            ]
          },
          "metadata": {},
          "execution_count": 19
        }
      ]
    },
    {
      "cell_type": "markdown",
      "source": [
        "--> The above table will have a list of all the AI models based on the condition the number of punctuations is less than the average punctuation and the word count is less than the average number of word counts.\n",
        "\n",
        "--> It is clear that there is a very less number of AI when the punctation and word count is less than the average number.\n",
        "\n",
        "--> There are only 514 AI models which satisfy the above condition which is a very low number"
      ],
      "metadata": {
        "id": "4zwO3TmFsg03"
      }
    },
    {
      "cell_type": "markdown",
      "source": [
        "## 💖 Table 2 - Patterns in Punctuation and word count"
      ],
      "metadata": {
        "id": "zrxWJGYiy2Ms"
      }
    },
    {
      "cell_type": "code",
      "source": [
        "# Exploring when punctaions and word count both are even number\n",
        "\n",
        "tmp_df2 = df[(df['punc_num'] % 2 == 0) & (df['word_count'] % 2 == 0)]\n",
        "tmp_df2.head()\n"
      ],
      "metadata": {
        "id": "wF0ug1SDyLpz",
        "colab": {
          "base_uri": "https://localhost:8080/",
          "height": 255
        },
        "outputId": "246bbeb1-8f4e-479f-fa29-1cf6a3ce5b89"
      },
      "execution_count": 20,
      "outputs": [
        {
          "output_type": "execute_result",
          "data": {
            "text/plain": [
              "    ID  feature_0  feature_1  feature_2  feature_3  feature_4  feature_5  \\\n",
              "5    6  -0.145006  -0.634942  -1.078515  -1.159792   0.311079  -0.295670   \n",
              "11  12   0.084866  -0.200358  -0.921153   0.081943  -1.337474   0.823542   \n",
              "17  18   0.254442  -0.223781   0.136652  -0.240341  -0.627915  -0.148729   \n",
              "28  29  -0.266282  -0.658304  -1.098375  -1.484823  -1.346890   0.360357   \n",
              "29  30   0.153485  -0.941568  -0.468057  -0.991230   0.759128   0.785092   \n",
              "\n",
              "    feature_6  feature_7  feature_8  ...  feature_761  feature_762  \\\n",
              "5    0.604143  -0.208568  -0.086018  ...     0.415729     1.076430   \n",
              "11   0.089733   0.367705  -0.835176  ...     0.002288     1.181507   \n",
              "17  -0.195910  -0.146338  -0.171415  ...     0.501537     0.301800   \n",
              "28  -0.479375  -0.744995   0.893870  ...     0.172659     0.770654   \n",
              "29  -0.756444   0.211150   2.201100  ...     1.051278    -0.085185   \n",
              "\n",
              "    feature_763  feature_764  feature_765  feature_766  feature_767  \\\n",
              "5      0.991697     0.335132     0.255469     0.444453    -0.100856   \n",
              "11     0.474934     0.417746     1.114653     0.428622    -0.364575   \n",
              "17    -0.455516    -0.147244     0.127956    -0.331654     0.047817   \n",
              "28     0.033117     0.190894    -0.109144     0.490024    -0.247415   \n",
              "29     2.110822    -0.091355    -0.545853     1.316181     0.813269   \n",
              "\n",
              "    word_count  punc_num  ind  \n",
              "5           26         6    0  \n",
              "11          24         4    0  \n",
              "17          40        10    0  \n",
              "28          40         4    0  \n",
              "29          12         2    0  \n",
              "\n",
              "[5 rows x 772 columns]"
            ],
            "text/html": [
              "\n",
              "  <div id=\"df-5cf0bc6f-e03f-411f-92bc-c29c33dfdf15\" class=\"colab-df-container\">\n",
              "    <div>\n",
              "<style scoped>\n",
              "    .dataframe tbody tr th:only-of-type {\n",
              "        vertical-align: middle;\n",
              "    }\n",
              "\n",
              "    .dataframe tbody tr th {\n",
              "        vertical-align: top;\n",
              "    }\n",
              "\n",
              "    .dataframe thead th {\n",
              "        text-align: right;\n",
              "    }\n",
              "</style>\n",
              "<table border=\"1\" class=\"dataframe\">\n",
              "  <thead>\n",
              "    <tr style=\"text-align: right;\">\n",
              "      <th></th>\n",
              "      <th>ID</th>\n",
              "      <th>feature_0</th>\n",
              "      <th>feature_1</th>\n",
              "      <th>feature_2</th>\n",
              "      <th>feature_3</th>\n",
              "      <th>feature_4</th>\n",
              "      <th>feature_5</th>\n",
              "      <th>feature_6</th>\n",
              "      <th>feature_7</th>\n",
              "      <th>feature_8</th>\n",
              "      <th>...</th>\n",
              "      <th>feature_761</th>\n",
              "      <th>feature_762</th>\n",
              "      <th>feature_763</th>\n",
              "      <th>feature_764</th>\n",
              "      <th>feature_765</th>\n",
              "      <th>feature_766</th>\n",
              "      <th>feature_767</th>\n",
              "      <th>word_count</th>\n",
              "      <th>punc_num</th>\n",
              "      <th>ind</th>\n",
              "    </tr>\n",
              "  </thead>\n",
              "  <tbody>\n",
              "    <tr>\n",
              "      <th>5</th>\n",
              "      <td>6</td>\n",
              "      <td>-0.145006</td>\n",
              "      <td>-0.634942</td>\n",
              "      <td>-1.078515</td>\n",
              "      <td>-1.159792</td>\n",
              "      <td>0.311079</td>\n",
              "      <td>-0.295670</td>\n",
              "      <td>0.604143</td>\n",
              "      <td>-0.208568</td>\n",
              "      <td>-0.086018</td>\n",
              "      <td>...</td>\n",
              "      <td>0.415729</td>\n",
              "      <td>1.076430</td>\n",
              "      <td>0.991697</td>\n",
              "      <td>0.335132</td>\n",
              "      <td>0.255469</td>\n",
              "      <td>0.444453</td>\n",
              "      <td>-0.100856</td>\n",
              "      <td>26</td>\n",
              "      <td>6</td>\n",
              "      <td>0</td>\n",
              "    </tr>\n",
              "    <tr>\n",
              "      <th>11</th>\n",
              "      <td>12</td>\n",
              "      <td>0.084866</td>\n",
              "      <td>-0.200358</td>\n",
              "      <td>-0.921153</td>\n",
              "      <td>0.081943</td>\n",
              "      <td>-1.337474</td>\n",
              "      <td>0.823542</td>\n",
              "      <td>0.089733</td>\n",
              "      <td>0.367705</td>\n",
              "      <td>-0.835176</td>\n",
              "      <td>...</td>\n",
              "      <td>0.002288</td>\n",
              "      <td>1.181507</td>\n",
              "      <td>0.474934</td>\n",
              "      <td>0.417746</td>\n",
              "      <td>1.114653</td>\n",
              "      <td>0.428622</td>\n",
              "      <td>-0.364575</td>\n",
              "      <td>24</td>\n",
              "      <td>4</td>\n",
              "      <td>0</td>\n",
              "    </tr>\n",
              "    <tr>\n",
              "      <th>17</th>\n",
              "      <td>18</td>\n",
              "      <td>0.254442</td>\n",
              "      <td>-0.223781</td>\n",
              "      <td>0.136652</td>\n",
              "      <td>-0.240341</td>\n",
              "      <td>-0.627915</td>\n",
              "      <td>-0.148729</td>\n",
              "      <td>-0.195910</td>\n",
              "      <td>-0.146338</td>\n",
              "      <td>-0.171415</td>\n",
              "      <td>...</td>\n",
              "      <td>0.501537</td>\n",
              "      <td>0.301800</td>\n",
              "      <td>-0.455516</td>\n",
              "      <td>-0.147244</td>\n",
              "      <td>0.127956</td>\n",
              "      <td>-0.331654</td>\n",
              "      <td>0.047817</td>\n",
              "      <td>40</td>\n",
              "      <td>10</td>\n",
              "      <td>0</td>\n",
              "    </tr>\n",
              "    <tr>\n",
              "      <th>28</th>\n",
              "      <td>29</td>\n",
              "      <td>-0.266282</td>\n",
              "      <td>-0.658304</td>\n",
              "      <td>-1.098375</td>\n",
              "      <td>-1.484823</td>\n",
              "      <td>-1.346890</td>\n",
              "      <td>0.360357</td>\n",
              "      <td>-0.479375</td>\n",
              "      <td>-0.744995</td>\n",
              "      <td>0.893870</td>\n",
              "      <td>...</td>\n",
              "      <td>0.172659</td>\n",
              "      <td>0.770654</td>\n",
              "      <td>0.033117</td>\n",
              "      <td>0.190894</td>\n",
              "      <td>-0.109144</td>\n",
              "      <td>0.490024</td>\n",
              "      <td>-0.247415</td>\n",
              "      <td>40</td>\n",
              "      <td>4</td>\n",
              "      <td>0</td>\n",
              "    </tr>\n",
              "    <tr>\n",
              "      <th>29</th>\n",
              "      <td>30</td>\n",
              "      <td>0.153485</td>\n",
              "      <td>-0.941568</td>\n",
              "      <td>-0.468057</td>\n",
              "      <td>-0.991230</td>\n",
              "      <td>0.759128</td>\n",
              "      <td>0.785092</td>\n",
              "      <td>-0.756444</td>\n",
              "      <td>0.211150</td>\n",
              "      <td>2.201100</td>\n",
              "      <td>...</td>\n",
              "      <td>1.051278</td>\n",
              "      <td>-0.085185</td>\n",
              "      <td>2.110822</td>\n",
              "      <td>-0.091355</td>\n",
              "      <td>-0.545853</td>\n",
              "      <td>1.316181</td>\n",
              "      <td>0.813269</td>\n",
              "      <td>12</td>\n",
              "      <td>2</td>\n",
              "      <td>0</td>\n",
              "    </tr>\n",
              "  </tbody>\n",
              "</table>\n",
              "<p>5 rows × 772 columns</p>\n",
              "</div>\n",
              "    <div class=\"colab-df-buttons\">\n",
              "\n",
              "  <div class=\"colab-df-container\">\n",
              "    <button class=\"colab-df-convert\" onclick=\"convertToInteractive('df-5cf0bc6f-e03f-411f-92bc-c29c33dfdf15')\"\n",
              "            title=\"Convert this dataframe to an interactive table.\"\n",
              "            style=\"display:none;\">\n",
              "\n",
              "  <svg xmlns=\"http://www.w3.org/2000/svg\" height=\"24px\" viewBox=\"0 -960 960 960\">\n",
              "    <path d=\"M120-120v-720h720v720H120Zm60-500h600v-160H180v160Zm220 220h160v-160H400v160Zm0 220h160v-160H400v160ZM180-400h160v-160H180v160Zm440 0h160v-160H620v160ZM180-180h160v-160H180v160Zm440 0h160v-160H620v160Z\"/>\n",
              "  </svg>\n",
              "    </button>\n",
              "\n",
              "  <style>\n",
              "    .colab-df-container {\n",
              "      display:flex;\n",
              "      gap: 12px;\n",
              "    }\n",
              "\n",
              "    .colab-df-convert {\n",
              "      background-color: #E8F0FE;\n",
              "      border: none;\n",
              "      border-radius: 50%;\n",
              "      cursor: pointer;\n",
              "      display: none;\n",
              "      fill: #1967D2;\n",
              "      height: 32px;\n",
              "      padding: 0 0 0 0;\n",
              "      width: 32px;\n",
              "    }\n",
              "\n",
              "    .colab-df-convert:hover {\n",
              "      background-color: #E2EBFA;\n",
              "      box-shadow: 0px 1px 2px rgba(60, 64, 67, 0.3), 0px 1px 3px 1px rgba(60, 64, 67, 0.15);\n",
              "      fill: #174EA6;\n",
              "    }\n",
              "\n",
              "    .colab-df-buttons div {\n",
              "      margin-bottom: 4px;\n",
              "    }\n",
              "\n",
              "    [theme=dark] .colab-df-convert {\n",
              "      background-color: #3B4455;\n",
              "      fill: #D2E3FC;\n",
              "    }\n",
              "\n",
              "    [theme=dark] .colab-df-convert:hover {\n",
              "      background-color: #434B5C;\n",
              "      box-shadow: 0px 1px 3px 1px rgba(0, 0, 0, 0.15);\n",
              "      filter: drop-shadow(0px 1px 2px rgba(0, 0, 0, 0.3));\n",
              "      fill: #FFFFFF;\n",
              "    }\n",
              "  </style>\n",
              "\n",
              "    <script>\n",
              "      const buttonEl =\n",
              "        document.querySelector('#df-5cf0bc6f-e03f-411f-92bc-c29c33dfdf15 button.colab-df-convert');\n",
              "      buttonEl.style.display =\n",
              "        google.colab.kernel.accessAllowed ? 'block' : 'none';\n",
              "\n",
              "      async function convertToInteractive(key) {\n",
              "        const element = document.querySelector('#df-5cf0bc6f-e03f-411f-92bc-c29c33dfdf15');\n",
              "        const dataTable =\n",
              "          await google.colab.kernel.invokeFunction('convertToInteractive',\n",
              "                                                    [key], {});\n",
              "        if (!dataTable) return;\n",
              "\n",
              "        const docLinkHtml = 'Like what you see? Visit the ' +\n",
              "          '<a target=\"_blank\" href=https://colab.research.google.com/notebooks/data_table.ipynb>data table notebook</a>'\n",
              "          + ' to learn more about interactive tables.';\n",
              "        element.innerHTML = '';\n",
              "        dataTable['output_type'] = 'display_data';\n",
              "        await google.colab.output.renderOutput(dataTable, element);\n",
              "        const docLink = document.createElement('div');\n",
              "        docLink.innerHTML = docLinkHtml;\n",
              "        element.appendChild(docLink);\n",
              "      }\n",
              "    </script>\n",
              "  </div>\n",
              "\n",
              "\n",
              "<div id=\"df-31cd4798-9684-4b3e-8361-c3ba09970061\">\n",
              "  <button class=\"colab-df-quickchart\" onclick=\"quickchart('df-31cd4798-9684-4b3e-8361-c3ba09970061')\"\n",
              "            title=\"Suggest charts\"\n",
              "            style=\"display:none;\">\n",
              "\n",
              "<svg xmlns=\"http://www.w3.org/2000/svg\" height=\"24px\"viewBox=\"0 0 24 24\"\n",
              "     width=\"24px\">\n",
              "    <g>\n",
              "        <path d=\"M19 3H5c-1.1 0-2 .9-2 2v14c0 1.1.9 2 2 2h14c1.1 0 2-.9 2-2V5c0-1.1-.9-2-2-2zM9 17H7v-7h2v7zm4 0h-2V7h2v10zm4 0h-2v-4h2v4z\"/>\n",
              "    </g>\n",
              "</svg>\n",
              "  </button>\n",
              "\n",
              "<style>\n",
              "  .colab-df-quickchart {\n",
              "      --bg-color: #E8F0FE;\n",
              "      --fill-color: #1967D2;\n",
              "      --hover-bg-color: #E2EBFA;\n",
              "      --hover-fill-color: #174EA6;\n",
              "      --disabled-fill-color: #AAA;\n",
              "      --disabled-bg-color: #DDD;\n",
              "  }\n",
              "\n",
              "  [theme=dark] .colab-df-quickchart {\n",
              "      --bg-color: #3B4455;\n",
              "      --fill-color: #D2E3FC;\n",
              "      --hover-bg-color: #434B5C;\n",
              "      --hover-fill-color: #FFFFFF;\n",
              "      --disabled-bg-color: #3B4455;\n",
              "      --disabled-fill-color: #666;\n",
              "  }\n",
              "\n",
              "  .colab-df-quickchart {\n",
              "    background-color: var(--bg-color);\n",
              "    border: none;\n",
              "    border-radius: 50%;\n",
              "    cursor: pointer;\n",
              "    display: none;\n",
              "    fill: var(--fill-color);\n",
              "    height: 32px;\n",
              "    padding: 0;\n",
              "    width: 32px;\n",
              "  }\n",
              "\n",
              "  .colab-df-quickchart:hover {\n",
              "    background-color: var(--hover-bg-color);\n",
              "    box-shadow: 0 1px 2px rgba(60, 64, 67, 0.3), 0 1px 3px 1px rgba(60, 64, 67, 0.15);\n",
              "    fill: var(--button-hover-fill-color);\n",
              "  }\n",
              "\n",
              "  .colab-df-quickchart-complete:disabled,\n",
              "  .colab-df-quickchart-complete:disabled:hover {\n",
              "    background-color: var(--disabled-bg-color);\n",
              "    fill: var(--disabled-fill-color);\n",
              "    box-shadow: none;\n",
              "  }\n",
              "\n",
              "  .colab-df-spinner {\n",
              "    border: 2px solid var(--fill-color);\n",
              "    border-color: transparent;\n",
              "    border-bottom-color: var(--fill-color);\n",
              "    animation:\n",
              "      spin 1s steps(1) infinite;\n",
              "  }\n",
              "\n",
              "  @keyframes spin {\n",
              "    0% {\n",
              "      border-color: transparent;\n",
              "      border-bottom-color: var(--fill-color);\n",
              "      border-left-color: var(--fill-color);\n",
              "    }\n",
              "    20% {\n",
              "      border-color: transparent;\n",
              "      border-left-color: var(--fill-color);\n",
              "      border-top-color: var(--fill-color);\n",
              "    }\n",
              "    30% {\n",
              "      border-color: transparent;\n",
              "      border-left-color: var(--fill-color);\n",
              "      border-top-color: var(--fill-color);\n",
              "      border-right-color: var(--fill-color);\n",
              "    }\n",
              "    40% {\n",
              "      border-color: transparent;\n",
              "      border-right-color: var(--fill-color);\n",
              "      border-top-color: var(--fill-color);\n",
              "    }\n",
              "    60% {\n",
              "      border-color: transparent;\n",
              "      border-right-color: var(--fill-color);\n",
              "    }\n",
              "    80% {\n",
              "      border-color: transparent;\n",
              "      border-right-color: var(--fill-color);\n",
              "      border-bottom-color: var(--fill-color);\n",
              "    }\n",
              "    90% {\n",
              "      border-color: transparent;\n",
              "      border-bottom-color: var(--fill-color);\n",
              "    }\n",
              "  }\n",
              "</style>\n",
              "\n",
              "  <script>\n",
              "    async function quickchart(key) {\n",
              "      const quickchartButtonEl =\n",
              "        document.querySelector('#' + key + ' button');\n",
              "      quickchartButtonEl.disabled = true;  // To prevent multiple clicks.\n",
              "      quickchartButtonEl.classList.add('colab-df-spinner');\n",
              "      try {\n",
              "        const charts = await google.colab.kernel.invokeFunction(\n",
              "            'suggestCharts', [key], {});\n",
              "      } catch (error) {\n",
              "        console.error('Error during call to suggestCharts:', error);\n",
              "      }\n",
              "      quickchartButtonEl.classList.remove('colab-df-spinner');\n",
              "      quickchartButtonEl.classList.add('colab-df-quickchart-complete');\n",
              "    }\n",
              "    (() => {\n",
              "      let quickchartButtonEl =\n",
              "        document.querySelector('#df-31cd4798-9684-4b3e-8361-c3ba09970061 button');\n",
              "      quickchartButtonEl.style.display =\n",
              "        google.colab.kernel.accessAllowed ? 'block' : 'none';\n",
              "    })();\n",
              "  </script>\n",
              "</div>\n",
              "\n",
              "    </div>\n",
              "  </div>\n"
            ]
          },
          "metadata": {},
          "execution_count": 20
        }
      ]
    },
    {
      "cell_type": "code",
      "source": [
        "tmp_df2['ind'].value_counts()"
      ],
      "metadata": {
        "id": "pe_tQm9E0ZjO",
        "colab": {
          "base_uri": "https://localhost:8080/"
        },
        "outputId": "cca283b3-6a95-4efb-d8d7-02892726b593"
      },
      "execution_count": 21,
      "outputs": [
        {
          "output_type": "execute_result",
          "data": {
            "text/plain": [
              "0    2589\n",
              "1     252\n",
              "Name: ind, dtype: int64"
            ]
          },
          "metadata": {},
          "execution_count": 21
        }
      ]
    },
    {
      "cell_type": "markdown",
      "source": [
        "Surprisingly, when both word counts and punctuation counts are even numbers, the dataset exhibits a notable imbalance in favor of human observations. Specifically, there are 2589 instances of humans compared to only 252 instances of AI. The occurrences of AI represent merely 10% of the human observations, highlighting a substantial disparity in the dataset composition."
      ],
      "metadata": {
        "id": "YnKUNT5Lzepe"
      }
    },
    {
      "cell_type": "code",
      "source": [
        "# Exploring when punctaions and word count both are odd numbers(lets see if we can find any pattern with odd count)\n",
        "tmp_df3 = df[(df['punc_num'] % 2 != 0) & (df['word_count'] % 2 != 0)]\n",
        "tmp_df3.head()\n"
      ],
      "metadata": {
        "id": "_yazQiHjydYL",
        "colab": {
          "base_uri": "https://localhost:8080/",
          "height": 255
        },
        "outputId": "9b0e8736-0722-4936-d98d-d1e9d04a265d"
      },
      "execution_count": 22,
      "outputs": [
        {
          "output_type": "execute_result",
          "data": {
            "text/plain": [
              "    ID  feature_0  feature_1  feature_2  feature_3  feature_4  feature_5  \\\n",
              "4    5  -0.307572   0.103575  -0.368605  -0.378654  -0.285990  -0.508058   \n",
              "12  13  -0.178200   0.182627  -1.263179  -1.240563  -0.630172  -0.400709   \n",
              "13  14  -0.099035  -0.552790  -0.615248  -0.370881  -0.721259  -0.379956   \n",
              "16  17   0.077158  -0.570118  -0.705506  -0.571611   0.617590   0.022175   \n",
              "20  21   0.149350  -0.383230  -0.727910  -0.087329   1.105200  -0.386486   \n",
              "\n",
              "    feature_6  feature_7  feature_8  ...  feature_761  feature_762  \\\n",
              "4   -0.254869  -0.108291  -0.095139  ...    -0.146845     0.497731   \n",
              "12   0.203051  -0.211239  -0.277912  ...     1.019306     1.018368   \n",
              "13  -0.352045   0.215297   0.145428  ...     0.074786     0.499477   \n",
              "16   0.390946  -0.121072   0.687683  ...    -0.090661     0.822914   \n",
              "20  -0.047784  -0.203322   0.320500  ...     0.595969     0.569622   \n",
              "\n",
              "    feature_763  feature_764  feature_765  feature_766  feature_767  \\\n",
              "4     -0.299924    -0.020024     0.975511    -0.342360    -0.428779   \n",
              "12    -0.054220     0.202756     0.092345    -0.423836     0.056237   \n",
              "13     0.102316     0.301788     0.911072    -0.301996     0.198638   \n",
              "16     0.674257    -0.289962     0.076699     0.489542    -0.377378   \n",
              "20     1.370971    -0.334932     0.498648     0.697241    -0.188623   \n",
              "\n",
              "    word_count  punc_num  ind  \n",
              "4           35         9    0  \n",
              "12          27         7    0  \n",
              "13          43        11    0  \n",
              "16          23         1    1  \n",
              "20          17         5    0  \n",
              "\n",
              "[5 rows x 772 columns]"
            ],
            "text/html": [
              "\n",
              "  <div id=\"df-ae232cf6-cb7b-4223-a315-5d15a11e5b9d\" class=\"colab-df-container\">\n",
              "    <div>\n",
              "<style scoped>\n",
              "    .dataframe tbody tr th:only-of-type {\n",
              "        vertical-align: middle;\n",
              "    }\n",
              "\n",
              "    .dataframe tbody tr th {\n",
              "        vertical-align: top;\n",
              "    }\n",
              "\n",
              "    .dataframe thead th {\n",
              "        text-align: right;\n",
              "    }\n",
              "</style>\n",
              "<table border=\"1\" class=\"dataframe\">\n",
              "  <thead>\n",
              "    <tr style=\"text-align: right;\">\n",
              "      <th></th>\n",
              "      <th>ID</th>\n",
              "      <th>feature_0</th>\n",
              "      <th>feature_1</th>\n",
              "      <th>feature_2</th>\n",
              "      <th>feature_3</th>\n",
              "      <th>feature_4</th>\n",
              "      <th>feature_5</th>\n",
              "      <th>feature_6</th>\n",
              "      <th>feature_7</th>\n",
              "      <th>feature_8</th>\n",
              "      <th>...</th>\n",
              "      <th>feature_761</th>\n",
              "      <th>feature_762</th>\n",
              "      <th>feature_763</th>\n",
              "      <th>feature_764</th>\n",
              "      <th>feature_765</th>\n",
              "      <th>feature_766</th>\n",
              "      <th>feature_767</th>\n",
              "      <th>word_count</th>\n",
              "      <th>punc_num</th>\n",
              "      <th>ind</th>\n",
              "    </tr>\n",
              "  </thead>\n",
              "  <tbody>\n",
              "    <tr>\n",
              "      <th>4</th>\n",
              "      <td>5</td>\n",
              "      <td>-0.307572</td>\n",
              "      <td>0.103575</td>\n",
              "      <td>-0.368605</td>\n",
              "      <td>-0.378654</td>\n",
              "      <td>-0.285990</td>\n",
              "      <td>-0.508058</td>\n",
              "      <td>-0.254869</td>\n",
              "      <td>-0.108291</td>\n",
              "      <td>-0.095139</td>\n",
              "      <td>...</td>\n",
              "      <td>-0.146845</td>\n",
              "      <td>0.497731</td>\n",
              "      <td>-0.299924</td>\n",
              "      <td>-0.020024</td>\n",
              "      <td>0.975511</td>\n",
              "      <td>-0.342360</td>\n",
              "      <td>-0.428779</td>\n",
              "      <td>35</td>\n",
              "      <td>9</td>\n",
              "      <td>0</td>\n",
              "    </tr>\n",
              "    <tr>\n",
              "      <th>12</th>\n",
              "      <td>13</td>\n",
              "      <td>-0.178200</td>\n",
              "      <td>0.182627</td>\n",
              "      <td>-1.263179</td>\n",
              "      <td>-1.240563</td>\n",
              "      <td>-0.630172</td>\n",
              "      <td>-0.400709</td>\n",
              "      <td>0.203051</td>\n",
              "      <td>-0.211239</td>\n",
              "      <td>-0.277912</td>\n",
              "      <td>...</td>\n",
              "      <td>1.019306</td>\n",
              "      <td>1.018368</td>\n",
              "      <td>-0.054220</td>\n",
              "      <td>0.202756</td>\n",
              "      <td>0.092345</td>\n",
              "      <td>-0.423836</td>\n",
              "      <td>0.056237</td>\n",
              "      <td>27</td>\n",
              "      <td>7</td>\n",
              "      <td>0</td>\n",
              "    </tr>\n",
              "    <tr>\n",
              "      <th>13</th>\n",
              "      <td>14</td>\n",
              "      <td>-0.099035</td>\n",
              "      <td>-0.552790</td>\n",
              "      <td>-0.615248</td>\n",
              "      <td>-0.370881</td>\n",
              "      <td>-0.721259</td>\n",
              "      <td>-0.379956</td>\n",
              "      <td>-0.352045</td>\n",
              "      <td>0.215297</td>\n",
              "      <td>0.145428</td>\n",
              "      <td>...</td>\n",
              "      <td>0.074786</td>\n",
              "      <td>0.499477</td>\n",
              "      <td>0.102316</td>\n",
              "      <td>0.301788</td>\n",
              "      <td>0.911072</td>\n",
              "      <td>-0.301996</td>\n",
              "      <td>0.198638</td>\n",
              "      <td>43</td>\n",
              "      <td>11</td>\n",
              "      <td>0</td>\n",
              "    </tr>\n",
              "    <tr>\n",
              "      <th>16</th>\n",
              "      <td>17</td>\n",
              "      <td>0.077158</td>\n",
              "      <td>-0.570118</td>\n",
              "      <td>-0.705506</td>\n",
              "      <td>-0.571611</td>\n",
              "      <td>0.617590</td>\n",
              "      <td>0.022175</td>\n",
              "      <td>0.390946</td>\n",
              "      <td>-0.121072</td>\n",
              "      <td>0.687683</td>\n",
              "      <td>...</td>\n",
              "      <td>-0.090661</td>\n",
              "      <td>0.822914</td>\n",
              "      <td>0.674257</td>\n",
              "      <td>-0.289962</td>\n",
              "      <td>0.076699</td>\n",
              "      <td>0.489542</td>\n",
              "      <td>-0.377378</td>\n",
              "      <td>23</td>\n",
              "      <td>1</td>\n",
              "      <td>1</td>\n",
              "    </tr>\n",
              "    <tr>\n",
              "      <th>20</th>\n",
              "      <td>21</td>\n",
              "      <td>0.149350</td>\n",
              "      <td>-0.383230</td>\n",
              "      <td>-0.727910</td>\n",
              "      <td>-0.087329</td>\n",
              "      <td>1.105200</td>\n",
              "      <td>-0.386486</td>\n",
              "      <td>-0.047784</td>\n",
              "      <td>-0.203322</td>\n",
              "      <td>0.320500</td>\n",
              "      <td>...</td>\n",
              "      <td>0.595969</td>\n",
              "      <td>0.569622</td>\n",
              "      <td>1.370971</td>\n",
              "      <td>-0.334932</td>\n",
              "      <td>0.498648</td>\n",
              "      <td>0.697241</td>\n",
              "      <td>-0.188623</td>\n",
              "      <td>17</td>\n",
              "      <td>5</td>\n",
              "      <td>0</td>\n",
              "    </tr>\n",
              "  </tbody>\n",
              "</table>\n",
              "<p>5 rows × 772 columns</p>\n",
              "</div>\n",
              "    <div class=\"colab-df-buttons\">\n",
              "\n",
              "  <div class=\"colab-df-container\">\n",
              "    <button class=\"colab-df-convert\" onclick=\"convertToInteractive('df-ae232cf6-cb7b-4223-a315-5d15a11e5b9d')\"\n",
              "            title=\"Convert this dataframe to an interactive table.\"\n",
              "            style=\"display:none;\">\n",
              "\n",
              "  <svg xmlns=\"http://www.w3.org/2000/svg\" height=\"24px\" viewBox=\"0 -960 960 960\">\n",
              "    <path d=\"M120-120v-720h720v720H120Zm60-500h600v-160H180v160Zm220 220h160v-160H400v160Zm0 220h160v-160H400v160ZM180-400h160v-160H180v160Zm440 0h160v-160H620v160ZM180-180h160v-160H180v160Zm440 0h160v-160H620v160Z\"/>\n",
              "  </svg>\n",
              "    </button>\n",
              "\n",
              "  <style>\n",
              "    .colab-df-container {\n",
              "      display:flex;\n",
              "      gap: 12px;\n",
              "    }\n",
              "\n",
              "    .colab-df-convert {\n",
              "      background-color: #E8F0FE;\n",
              "      border: none;\n",
              "      border-radius: 50%;\n",
              "      cursor: pointer;\n",
              "      display: none;\n",
              "      fill: #1967D2;\n",
              "      height: 32px;\n",
              "      padding: 0 0 0 0;\n",
              "      width: 32px;\n",
              "    }\n",
              "\n",
              "    .colab-df-convert:hover {\n",
              "      background-color: #E2EBFA;\n",
              "      box-shadow: 0px 1px 2px rgba(60, 64, 67, 0.3), 0px 1px 3px 1px rgba(60, 64, 67, 0.15);\n",
              "      fill: #174EA6;\n",
              "    }\n",
              "\n",
              "    .colab-df-buttons div {\n",
              "      margin-bottom: 4px;\n",
              "    }\n",
              "\n",
              "    [theme=dark] .colab-df-convert {\n",
              "      background-color: #3B4455;\n",
              "      fill: #D2E3FC;\n",
              "    }\n",
              "\n",
              "    [theme=dark] .colab-df-convert:hover {\n",
              "      background-color: #434B5C;\n",
              "      box-shadow: 0px 1px 3px 1px rgba(0, 0, 0, 0.15);\n",
              "      filter: drop-shadow(0px 1px 2px rgba(0, 0, 0, 0.3));\n",
              "      fill: #FFFFFF;\n",
              "    }\n",
              "  </style>\n",
              "\n",
              "    <script>\n",
              "      const buttonEl =\n",
              "        document.querySelector('#df-ae232cf6-cb7b-4223-a315-5d15a11e5b9d button.colab-df-convert');\n",
              "      buttonEl.style.display =\n",
              "        google.colab.kernel.accessAllowed ? 'block' : 'none';\n",
              "\n",
              "      async function convertToInteractive(key) {\n",
              "        const element = document.querySelector('#df-ae232cf6-cb7b-4223-a315-5d15a11e5b9d');\n",
              "        const dataTable =\n",
              "          await google.colab.kernel.invokeFunction('convertToInteractive',\n",
              "                                                    [key], {});\n",
              "        if (!dataTable) return;\n",
              "\n",
              "        const docLinkHtml = 'Like what you see? Visit the ' +\n",
              "          '<a target=\"_blank\" href=https://colab.research.google.com/notebooks/data_table.ipynb>data table notebook</a>'\n",
              "          + ' to learn more about interactive tables.';\n",
              "        element.innerHTML = '';\n",
              "        dataTable['output_type'] = 'display_data';\n",
              "        await google.colab.output.renderOutput(dataTable, element);\n",
              "        const docLink = document.createElement('div');\n",
              "        docLink.innerHTML = docLinkHtml;\n",
              "        element.appendChild(docLink);\n",
              "      }\n",
              "    </script>\n",
              "  </div>\n",
              "\n",
              "\n",
              "<div id=\"df-722d161a-5cc2-4765-9106-be7c506ab721\">\n",
              "  <button class=\"colab-df-quickchart\" onclick=\"quickchart('df-722d161a-5cc2-4765-9106-be7c506ab721')\"\n",
              "            title=\"Suggest charts\"\n",
              "            style=\"display:none;\">\n",
              "\n",
              "<svg xmlns=\"http://www.w3.org/2000/svg\" height=\"24px\"viewBox=\"0 0 24 24\"\n",
              "     width=\"24px\">\n",
              "    <g>\n",
              "        <path d=\"M19 3H5c-1.1 0-2 .9-2 2v14c0 1.1.9 2 2 2h14c1.1 0 2-.9 2-2V5c0-1.1-.9-2-2-2zM9 17H7v-7h2v7zm4 0h-2V7h2v10zm4 0h-2v-4h2v4z\"/>\n",
              "    </g>\n",
              "</svg>\n",
              "  </button>\n",
              "\n",
              "<style>\n",
              "  .colab-df-quickchart {\n",
              "      --bg-color: #E8F0FE;\n",
              "      --fill-color: #1967D2;\n",
              "      --hover-bg-color: #E2EBFA;\n",
              "      --hover-fill-color: #174EA6;\n",
              "      --disabled-fill-color: #AAA;\n",
              "      --disabled-bg-color: #DDD;\n",
              "  }\n",
              "\n",
              "  [theme=dark] .colab-df-quickchart {\n",
              "      --bg-color: #3B4455;\n",
              "      --fill-color: #D2E3FC;\n",
              "      --hover-bg-color: #434B5C;\n",
              "      --hover-fill-color: #FFFFFF;\n",
              "      --disabled-bg-color: #3B4455;\n",
              "      --disabled-fill-color: #666;\n",
              "  }\n",
              "\n",
              "  .colab-df-quickchart {\n",
              "    background-color: var(--bg-color);\n",
              "    border: none;\n",
              "    border-radius: 50%;\n",
              "    cursor: pointer;\n",
              "    display: none;\n",
              "    fill: var(--fill-color);\n",
              "    height: 32px;\n",
              "    padding: 0;\n",
              "    width: 32px;\n",
              "  }\n",
              "\n",
              "  .colab-df-quickchart:hover {\n",
              "    background-color: var(--hover-bg-color);\n",
              "    box-shadow: 0 1px 2px rgba(60, 64, 67, 0.3), 0 1px 3px 1px rgba(60, 64, 67, 0.15);\n",
              "    fill: var(--button-hover-fill-color);\n",
              "  }\n",
              "\n",
              "  .colab-df-quickchart-complete:disabled,\n",
              "  .colab-df-quickchart-complete:disabled:hover {\n",
              "    background-color: var(--disabled-bg-color);\n",
              "    fill: var(--disabled-fill-color);\n",
              "    box-shadow: none;\n",
              "  }\n",
              "\n",
              "  .colab-df-spinner {\n",
              "    border: 2px solid var(--fill-color);\n",
              "    border-color: transparent;\n",
              "    border-bottom-color: var(--fill-color);\n",
              "    animation:\n",
              "      spin 1s steps(1) infinite;\n",
              "  }\n",
              "\n",
              "  @keyframes spin {\n",
              "    0% {\n",
              "      border-color: transparent;\n",
              "      border-bottom-color: var(--fill-color);\n",
              "      border-left-color: var(--fill-color);\n",
              "    }\n",
              "    20% {\n",
              "      border-color: transparent;\n",
              "      border-left-color: var(--fill-color);\n",
              "      border-top-color: var(--fill-color);\n",
              "    }\n",
              "    30% {\n",
              "      border-color: transparent;\n",
              "      border-left-color: var(--fill-color);\n",
              "      border-top-color: var(--fill-color);\n",
              "      border-right-color: var(--fill-color);\n",
              "    }\n",
              "    40% {\n",
              "      border-color: transparent;\n",
              "      border-right-color: var(--fill-color);\n",
              "      border-top-color: var(--fill-color);\n",
              "    }\n",
              "    60% {\n",
              "      border-color: transparent;\n",
              "      border-right-color: var(--fill-color);\n",
              "    }\n",
              "    80% {\n",
              "      border-color: transparent;\n",
              "      border-right-color: var(--fill-color);\n",
              "      border-bottom-color: var(--fill-color);\n",
              "    }\n",
              "    90% {\n",
              "      border-color: transparent;\n",
              "      border-bottom-color: var(--fill-color);\n",
              "    }\n",
              "  }\n",
              "</style>\n",
              "\n",
              "  <script>\n",
              "    async function quickchart(key) {\n",
              "      const quickchartButtonEl =\n",
              "        document.querySelector('#' + key + ' button');\n",
              "      quickchartButtonEl.disabled = true;  // To prevent multiple clicks.\n",
              "      quickchartButtonEl.classList.add('colab-df-spinner');\n",
              "      try {\n",
              "        const charts = await google.colab.kernel.invokeFunction(\n",
              "            'suggestCharts', [key], {});\n",
              "      } catch (error) {\n",
              "        console.error('Error during call to suggestCharts:', error);\n",
              "      }\n",
              "      quickchartButtonEl.classList.remove('colab-df-spinner');\n",
              "      quickchartButtonEl.classList.add('colab-df-quickchart-complete');\n",
              "    }\n",
              "    (() => {\n",
              "      let quickchartButtonEl =\n",
              "        document.querySelector('#df-722d161a-5cc2-4765-9106-be7c506ab721 button');\n",
              "      quickchartButtonEl.style.display =\n",
              "        google.colab.kernel.accessAllowed ? 'block' : 'none';\n",
              "    })();\n",
              "  </script>\n",
              "</div>\n",
              "\n",
              "    </div>\n",
              "  </div>\n"
            ]
          },
          "metadata": {},
          "execution_count": 22
        }
      ]
    },
    {
      "cell_type": "code",
      "source": [
        "tmp_df3['ind'].value_counts()"
      ],
      "metadata": {
        "id": "KpXE44RS1c2O",
        "colab": {
          "base_uri": "https://localhost:8080/"
        },
        "outputId": "4407b0e5-4176-4fa7-d0de-a627341db978"
      },
      "execution_count": 23,
      "outputs": [
        {
          "output_type": "execute_result",
          "data": {
            "text/plain": [
              "0    2432\n",
              "1     282\n",
              "Name: ind, dtype: int64"
            ]
          },
          "metadata": {},
          "execution_count": 23
        }
      ]
    },
    {
      "cell_type": "markdown",
      "source": [
        "Remarkably, when both word counts and punctuation counts are odd numbers, a conspicuous imbalance in favor of human observations emerges in the dataset. Notably, there are 2432 instances of humans compared to a mere 282 instances of AI. The occurrences of AI account for only 10% of the human observations, underscoring a substantial asymmetry in the composition of the dataset.\n"
      ],
      "metadata": {
        "id": "URDQTq5X1jmx"
      }
    },
    {
      "cell_type": "markdown",
      "source": [
        "The Pattern found in both using odd and even counts can be used in the future for future enginnering. This was a very interesting observation"
      ],
      "metadata": {
        "id": "XDn4T8wq1_TK"
      }
    },
    {
      "cell_type": "markdown",
      "source": [
        "## 🔴 Plot 4 - Plot for Punctuation and word count"
      ],
      "metadata": {
        "id": "wtvyDMDd4XaE"
      }
    },
    {
      "cell_type": "code",
      "source": [
        "# word count is even and punctuation count is odd\n",
        "tmp_df4 = df[(df['word_count'] % 2 == 0) & (df['punc_num'] % 2 != 0)]\n",
        "\n",
        "# word count is odd and punctuation count is even\n",
        "tmp_df5 = df[(df['word_count'] % 2 != 0) & (df['punc_num'] % 2 == 0)]\n",
        "\n",
        "# plot1\n",
        "plt.figure(figsize=(6, 4))\n",
        "sns.countplot(x='ind', data=tmp_df4, palette='viridis')\n",
        "plt.title('Distribution of Humans and AI with Even Word Count and Odd Punctuation Count')\n",
        "plt.xlabel('Class (ind)')\n",
        "plt.ylabel('Count')\n",
        "plt.show()\n",
        "\n",
        "# Plot2\n",
        "plt.figure(figsize=(6, 4))\n",
        "sns.countplot(x='ind', data=tmp_df5, palette='viridis')\n",
        "plt.title('Distribution of Humans and AI with Odd Word Count and Even Punctuation Count')\n",
        "plt.xlabel('Class (ind)')\n",
        "plt.ylabel('Count')\n",
        "plt.show()\n"
      ],
      "metadata": {
        "id": "8iasgskH251z",
        "colab": {
          "base_uri": "https://localhost:8080/",
          "height": 997
        },
        "outputId": "9610a153-39ee-4131-e885-eeaa5601ec98"
      },
      "execution_count": 24,
      "outputs": [
        {
          "output_type": "stream",
          "name": "stderr",
          "text": [
            "<ipython-input-24-0cbd2e1c2da7>:9: FutureWarning: \n",
            "\n",
            "Passing `palette` without assigning `hue` is deprecated and will be removed in v0.14.0. Assign the `x` variable to `hue` and set `legend=False` for the same effect.\n",
            "\n",
            "  sns.countplot(x='ind', data=tmp_df4, palette='viridis')\n"
          ]
        },
        {
          "output_type": "display_data",
          "data": {
            "text/plain": [
              "<Figure size 600x400 with 1 Axes>"
            ],
            "image/png": "[encoded data removed]"
          },
          "metadata": {}
        },
        {
          "output_type": "stream",
          "name": "stderr",
          "text": [
            "<ipython-input-24-0cbd2e1c2da7>:17: FutureWarning: \n",
            "\n",
            "Passing `palette` without assigning `hue` is deprecated and will be removed in v0.14.0. Assign the `x` variable to `hue` and set `legend=False` for the same effect.\n",
            "\n",
            "  sns.countplot(x='ind', data=tmp_df5, palette='viridis')\n"
          ]
        },
        {
          "output_type": "display_data",
          "data": {
            "text/plain": [
              "<Figure size 600x400 with 1 Axes>"
            ],
            "image/png": "[encoded data removed]"
          },
          "metadata": {}
        }
      ]
    },
    {
      "cell_type": "markdown",
      "source": [
        "Upon examining tables for even and odd punctuation counts, my focus was on discerning the patterns in the distribution of humans and AI based on two specific conditions: even word count and odd punctuation count, and odd word count and even punctuation count. In the former scenario, I observed a distinct pattern where the word count was even, and the punctuation count was odd. Surprisingly, there was a noticeable imbalance, with humans significantly outnumbering AI instances. Conversely, in the latter scenario with odd word count and even punctuation count, a similar discernible pattern emerged. Notably, there was a prevalence of human instances, underscoring a consistent and remarkable asymmetry in the distribution of the dataset."
      ],
      "metadata": {
        "id": "268kiUuE4_C5"
      }
    },
    {
      "cell_type": "markdown",
      "source": [
        "-> The number of Humans in all the conditions will be definitely higher as they are the majority class here. In all these tables and plots the following condition has given the most interesting result for us:tmp_df = df[(df['punc_num'] < 7) & (df['word_count'] < 30) & (df['ind'] == 1)]"
      ],
      "metadata": {
        "id": "Qo8MVoRE6lDQ"
      }
    },
    {
      "cell_type": "markdown",
      "source": [
        "# 🔴 Data Partition & Feature Engineering"
      ],
      "metadata": {
        "id": "jxycgOfk74EC"
      }
    },
    {
      "cell_type": "code",
      "source": [
        "# Checking the shape for any data leakage\n",
        "df.shape\n",
        "\n",
        "#Everything looks good till now"
      ],
      "metadata": {
        "id": "uXi0zoLu8faO",
        "colab": {
          "base_uri": "https://localhost:8080/"
        },
        "outputId": "76fc02a0-7abf-425d-ecd5-e50dbcb30c84"
      },
      "execution_count": 25,
      "outputs": [
        {
          "output_type": "execute_result",
          "data": {
            "text/plain": [
              "(11144, 772)"
            ]
          },
          "metadata": {},
          "execution_count": 25
        }
      ]
    },
    {
      "cell_type": "code",
      "execution_count": 26,
      "metadata": {
        "id": "L3ctGrSQfIDA"
      },
      "outputs": [],
      "source": [
        "#Dropping ID as we are not going to use it in the Model\n",
        "#Also dropping ind as it is our target variable\n",
        "\n",
        "X = df.drop(['ind','ID'], axis=1)\n",
        "Y = df['ind']"
      ]
    },
    {
      "cell_type": "code",
      "execution_count": 27,
      "metadata": {
        "id": "eLRsKC-kfKx_",
        "colab": {
          "base_uri": "https://localhost:8080/"
        },
        "outputId": "723218ee-7e8c-428f-e81c-9fddca344504"
      },
      "outputs": [
        {
          "output_type": "execute_result",
          "data": {
            "text/plain": [
              "(11144, 770)"
            ]
          },
          "metadata": {},
          "execution_count": 27
        }
      ],
      "source": [
        "#Reconfirming the shape for X\n",
        "X.shape"
      ]
    },
    {
      "cell_type": "code",
      "execution_count": 28,
      "metadata": {
        "id": "kA9CUtA9fNNM",
        "colab": {
          "base_uri": "https://localhost:8080/"
        },
        "outputId": "43345a2f-e4b6-4ee7-c441-5516cb5b6d44"
      },
      "outputs": [
        {
          "output_type": "execute_result",
          "data": {
            "text/plain": [
              "(11144,)"
            ]
          },
          "metadata": {},
          "execution_count": 28
        }
      ],
      "source": [
        "#Reconfirming the shape for Y\n",
        "Y.shape"
      ]
    },
    {
      "cell_type": "code",
      "execution_count": 29,
      "metadata": {
        "id": "Taffy2tOfOzw"
      },
      "outputs": [],
      "source": [
        "# Splitting the data on 90% train and 10% test\n",
        "X_train, X_test, y_train, y_test = train_test_split(X, Y,\n",
        "                                                    test_size = 0.1,\n",
        "                                                    shuffle = True,\n",
        "                                                    random_state = 42)"
      ]
    },
    {
      "cell_type": "code",
      "source": [
        "#Checking the shape for X_train, X_test, y_train and y_test\n",
        "print(X_train.shape, X_test.shape, y_train.shape, y_test.shape)"
      ],
      "metadata": {
        "id": "hyT9lnaM9NtT",
        "colab": {
          "base_uri": "https://localhost:8080/"
        },
        "outputId": "00f04c84-669c-44b2-a1ec-1d7eab7e7f8f"
      },
      "execution_count": 30,
      "outputs": [
        {
          "output_type": "stream",
          "name": "stdout",
          "text": [
            "(10029, 770) (1115, 770) (10029,) (1115,)\n"
          ]
        }
      ]
    },
    {
      "cell_type": "code",
      "execution_count": 31,
      "metadata": {
        "id": "ASZEHL9xfPVX",
        "colab": {
          "base_uri": "https://localhost:8080/"
        },
        "outputId": "392d9286-5d9c-455f-8da0-62ac331e1bd1"
      },
      "outputs": [
        {
          "output_type": "execute_result",
          "data": {
            "text/plain": [
              "0    1010\n",
              "1     105\n",
              "Name: ind, dtype: int64"
            ]
          },
          "metadata": {},
          "execution_count": 31
        }
      ],
      "source": [
        "y_test.value_counts()"
      ]
    },
    {
      "cell_type": "code",
      "execution_count": 32,
      "metadata": {
        "id": "schheXSKfSA-",
        "colab": {
          "base_uri": "https://localhost:8080/"
        },
        "outputId": "05b954ba-9212-42dc-9670-9dd6797379b1"
      },
      "outputs": [
        {
          "output_type": "execute_result",
          "data": {
            "text/plain": [
              "0    9034\n",
              "1     995\n",
              "Name: ind, dtype: int64"
            ]
          },
          "metadata": {},
          "execution_count": 32
        }
      ],
      "source": [
        "y_train.value_counts()\n",
        "\n",
        "#Everything looks good"
      ]
    },
    {
      "cell_type": "code",
      "execution_count": 33,
      "metadata": {
        "id": "6fjL_plVfUB2"
      },
      "outputs": [],
      "source": [
        " #Converting to Numpy array\n",
        " X_train = np.array(X_train)\n",
        " X_test = np.array(X_test)\n",
        " y_train = np.array(y_train)\n",
        " y_test = np.array(y_test)"
      ]
    },
    {
      "cell_type": "code",
      "execution_count": 34,
      "metadata": {
        "id": "TS3mwBpFfVa8",
        "colab": {
          "base_uri": "https://localhost:8080/"
        },
        "outputId": "27d524ad-7aa7-4d46-8147-5e7af97eba28"
      },
      "outputs": [
        {
          "output_type": "stream",
          "name": "stdout",
          "text": [
            "(10029, 770) (1115, 770) (10029,) (1115,)\n"
          ]
        }
      ],
      "source": [
        "print(X_train.shape,X_test.shape,y_train.shape,y_test.shape)"
      ]
    },
    {
      "cell_type": "markdown",
      "source": [
        "## 🔴 Min-Max Scaler"
      ],
      "metadata": {
        "id": "4swvqO2V9ush"
      }
    },
    {
      "cell_type": "code",
      "execution_count": 35,
      "metadata": {
        "id": "Lz7Ytv9zfXBD"
      },
      "outputs": [],
      "source": [
        "# Creating the StandardScaler instance\n",
        "scaler = StandardScaler()\n",
        "\n",
        "# Fiting and transforming the training data (X_train)\n",
        "X_train = scaler.fit_transform(X_train)\n",
        "\n",
        "# Transforming the test data (X_test) using the same scaler\n",
        "X_test = scaler.transform(X_test)"
      ]
    },
    {
      "cell_type": "markdown",
      "source": [
        "## 🔴 Feature Importance - Feature Engineering"
      ],
      "metadata": {
        "id": "NN56J-Uh_Gxt"
      }
    },
    {
      "cell_type": "code",
      "source": [
        "# importing RandomForestClassifier Model\n",
        "\n",
        "from sklearn.ensemble import RandomForestClassifier #RFC\n",
        "\n",
        "\n",
        "#Running and Fitting the Model\n",
        "model = RandomForestClassifier(random_state=42)\n",
        "model.fit(X_train, y_train)\n",
        "\n",
        "#feature importances\n",
        "importances = model.feature_importances_\n",
        "\n",
        "# sorting the features\n",
        "sorted_indices = np.argsort(importances)[::-1]\n",
        "\n",
        "#Selecting the top 85% of the features\n",
        "n_top_features = int(len(sorted_indices) * 0.85)  # Adjust this to change the number of features\n",
        "top_feature_indices = sorted_indices[:n_top_features]\n",
        "\n",
        "# # Select the top features from X_train_scaled and X_test_scaled\n",
        "# # X_train = X_train[:, top_feature_indices]\n",
        "# # X_test = X_test[:, top_feature_indices]\n",
        "\n"
      ],
      "metadata": {
        "id": "Cgj6jFWy-Bnl"
      },
      "execution_count": 36,
      "outputs": []
    },
    {
      "cell_type": "markdown",
      "source": [
        "❌ Despite my attempts to enhance the model through feature engineering, specifically by selecting the top 85% of features based on their importance in a Random Classifier Model, I did not observe significant improvement compared to the current model that utilizes all features. Experimenting with different percentages of features did not yield substantial enhancements either. I also explored Principal Component Analysis (PCA) to extract features with a strong correlation of 0.15, but this approach did not contribute to better performance. Consequently, I opted to proceed without any feature engineering and retained all the features in the final model."
      ],
      "metadata": {
        "id": "rznM03cW2fJy"
      }
    },
    {
      "cell_type": "markdown",
      "source": [
        "# 🔴 Modelling"
      ],
      "metadata": {
        "id": "kSHcED_F_VkJ"
      }
    },
    {
      "cell_type": "markdown",
      "source": [
        "## 🟡 Neural Network Model"
      ],
      "metadata": {
        "id": "3joLVNXM_mq1"
      }
    },
    {
      "cell_type": "code",
      "execution_count": 37,
      "metadata": {
        "id": "SNhcS2mZfXnk",
        "colab": {
          "base_uri": "https://localhost:8080/"
        },
        "outputId": "74f72933-1612-406c-f4d3-856c41ddbd39"
      },
      "outputs": [
        {
          "output_type": "stream",
          "name": "stdout",
          "text": [
            "Model: \"sequential\"\n",
            "_________________________________________________________________\n",
            " Layer (type)                Output Shape              Param #   \n",
            "=================================================================\n",
            " dense (Dense)               (None, 50)                38550     \n",
            "                                                                 \n",
            " dropout (Dropout)           (None, 50)                0         \n",
            "                                                                 \n",
            " dense_1 (Dense)             (None, 25)                1275      \n",
            "                                                                 \n",
            " dropout_1 (Dropout)         (None, 25)                0         \n",
            "                                                                 \n",
            " dense_2 (Dense)             (None, 10)                260       \n",
            "                                                                 \n",
            " dropout_2 (Dropout)         (None, 10)                0         \n",
            "                                                                 \n",
            " dense_3 (Dense)             (None, 1)                 11        \n",
            "                                                                 \n",
            "=================================================================\n",
            "Total params: 40096 (156.62 KB)\n",
            "Trainable params: 40096 (156.62 KB)\n",
            "Non-trainable params: 0 (0.00 Byte)\n",
            "_________________________________________________________________\n"
          ]
        }
      ],
      "source": [
        "# Building the Model with dropout of 0.5\n",
        "\n",
        "#Creating a Sequential Model\n",
        "model = Sequential()\n",
        "\n",
        "# Adding first densely connected layer using Relu activation function\n",
        "model.add(Dense(50, input_shape=(X_train.shape[1],), activation='relu'))\n",
        "\n",
        "#Adding a dropout layer with dropout rate of 0.5\n",
        "model.add(Dropout(0.5)) # dropout= 0.5\n",
        "\n",
        "# Adding second densely connected layer using Relu activation function\n",
        "model.add(Dense(25, activation='relu'))\n",
        "\n",
        "#Adding a dropout layer with dropout rate of 0.5\n",
        "model.add(Dropout(0.5)) # dropout= 0.5\n",
        "\n",
        "# Adding third densely connected layer using Relu activation function\n",
        "model.add(Dense(10, activation='relu'))\n",
        "\n",
        "#Adding a dropout layer with dropout rate of 0.5\n",
        "model.add(Dropout(0.5)) # dropout= 0.5\n",
        "\n",
        "#Adding the output layer with sigmoid function\n",
        "model.add(Dense(1, activation='sigmoid')) # output node = sigmoid\n",
        "\n",
        "#Displaying the model\n",
        "model.summary()"
      ]
    },
    {
      "cell_type": "markdown",
      "source": [
        "## 🟡 Compiling the Model"
      ],
      "metadata": {
        "id": "_ofIPtzEA0ig"
      }
    },
    {
      "cell_type": "code",
      "execution_count": 38,
      "metadata": {
        "id": "nlbRU_Ljfagf"
      },
      "outputs": [],
      "source": [
        "# compile the model using Adam optimizer and metrics as accuracy\n",
        "model.compile(optimizer='Adam',\n",
        "              loss='binary_crossentropy',\n",
        "              metrics=['accuracy'])"
      ]
    },
    {
      "cell_type": "markdown",
      "source": [
        "## 🟡 Early Stopping Callback"
      ],
      "metadata": {
        "id": "uPlAzFMlA59r"
      }
    },
    {
      "cell_type": "code",
      "execution_count": 39,
      "metadata": {
        "id": "nALHbsjufcA0"
      },
      "outputs": [],
      "source": [
        "# Early stopping callback with a Patience of 60\n",
        "es = EarlyStopping(monitor='val_accuracy',\n",
        "                   mode='max',\n",
        "                   patience=60,\n",
        "                   restore_best_weights = True)"
      ]
    },
    {
      "cell_type": "markdown",
      "source": [
        "## 🟡 Fitting the Model"
      ],
      "metadata": {
        "id": "jx6D1BlrA-nT"
      }
    },
    {
      "cell_type": "code",
      "execution_count": 40,
      "metadata": {
        "id": "OV-6_z-2fclh",
        "colab": {
          "base_uri": "https://localhost:8080/"
        },
        "outputId": "51b832c4-79a0-47c8-ba7a-8411ace0fbc0"
      },
      "outputs": [
        {
          "output_type": "stream",
          "name": "stdout",
          "text": [
            "Epoch 1/100000\n",
            "335/335 [==============================] - 3s 4ms/step - loss: 0.4684 - accuracy: 0.8578 - val_loss: 0.2644 - val_accuracy: 0.9058\n",
            "Epoch 2/100000\n",
            "335/335 [==============================] - 1s 3ms/step - loss: 0.3307 - accuracy: 0.8943 - val_loss: 0.2422 - val_accuracy: 0.9058\n",
            "Epoch 3/100000\n",
            "335/335 [==============================] - 1s 3ms/step - loss: 0.2973 - accuracy: 0.8986 - val_loss: 0.2287 - val_accuracy: 0.9049\n",
            "Epoch 4/100000\n",
            "335/335 [==============================] - 2s 5ms/step - loss: 0.2732 - accuracy: 0.9034 - val_loss: 0.2121 - val_accuracy: 0.9067\n",
            "Epoch 5/100000\n",
            "335/335 [==============================] - 2s 5ms/step - loss: 0.2552 - accuracy: 0.9065 - val_loss: 0.2127 - val_accuracy: 0.9130\n",
            "Epoch 6/100000\n",
            "335/335 [==============================] - 1s 3ms/step - loss: 0.2450 - accuracy: 0.9070 - val_loss: 0.2074 - val_accuracy: 0.9193\n",
            "Epoch 7/100000\n",
            "335/335 [==============================] - 1s 3ms/step - loss: 0.2363 - accuracy: 0.9107 - val_loss: 0.2056 - val_accuracy: 0.9220\n",
            "Epoch 8/100000\n",
            "335/335 [==============================] - 1s 4ms/step - loss: 0.2285 - accuracy: 0.9089 - val_loss: 0.1893 - val_accuracy: 0.9238\n",
            "Epoch 9/100000\n",
            "335/335 [==============================] - 1s 4ms/step - loss: 0.2234 - accuracy: 0.9130 - val_loss: 0.1844 - val_accuracy: 0.9363\n",
            "Epoch 10/100000\n",
            "335/335 [==============================] - 1s 4ms/step - loss: 0.2150 - accuracy: 0.9136 - val_loss: 0.1800 - val_accuracy: 0.9372\n",
            "Epoch 11/100000\n",
            "335/335 [==============================] - 1s 3ms/step - loss: 0.2048 - accuracy: 0.9192 - val_loss: 0.1753 - val_accuracy: 0.9480\n",
            "Epoch 12/100000\n",
            "335/335 [==============================] - 1s 3ms/step - loss: 0.2041 - accuracy: 0.9197 - val_loss: 0.1734 - val_accuracy: 0.9426\n",
            "Epoch 13/100000\n",
            "335/335 [==============================] - 1s 3ms/step - loss: 0.1996 - accuracy: 0.9206 - val_loss: 0.1667 - val_accuracy: 0.9435\n",
            "Epoch 14/100000\n",
            "335/335 [==============================] - 1s 4ms/step - loss: 0.1941 - accuracy: 0.9248 - val_loss: 0.1727 - val_accuracy: 0.9435\n",
            "Epoch 15/100000\n",
            "335/335 [==============================] - 2s 5ms/step - loss: 0.1946 - accuracy: 0.9252 - val_loss: 0.1639 - val_accuracy: 0.9498\n",
            "Epoch 16/100000\n",
            "335/335 [==============================] - 2s 4ms/step - loss: 0.1797 - accuracy: 0.9293 - val_loss: 0.1664 - val_accuracy: 0.9507\n",
            "Epoch 17/100000\n",
            "335/335 [==============================] - 1s 3ms/step - loss: 0.1817 - accuracy: 0.9276 - val_loss: 0.1647 - val_accuracy: 0.9462\n",
            "Epoch 18/100000\n",
            "335/335 [==============================] - 1s 3ms/step - loss: 0.1741 - accuracy: 0.9314 - val_loss: 0.1693 - val_accuracy: 0.9462\n",
            "Epoch 19/100000\n",
            "335/335 [==============================] - 1s 3ms/step - loss: 0.1683 - accuracy: 0.9318 - val_loss: 0.1658 - val_accuracy: 0.9516\n",
            "Epoch 20/100000\n",
            "335/335 [==============================] - 1s 4ms/step - loss: 0.1703 - accuracy: 0.9352 - val_loss: 0.1700 - val_accuracy: 0.9480\n",
            "Epoch 21/100000\n",
            "335/335 [==============================] - 1s 3ms/step - loss: 0.1634 - accuracy: 0.9361 - val_loss: 0.1668 - val_accuracy: 0.9462\n",
            "Epoch 22/100000\n",
            "335/335 [==============================] - 1s 3ms/step - loss: 0.1528 - accuracy: 0.9383 - val_loss: 0.1665 - val_accuracy: 0.9489\n",
            "Epoch 23/100000\n",
            "335/335 [==============================] - 1s 4ms/step - loss: 0.1535 - accuracy: 0.9377 - val_loss: 0.1676 - val_accuracy: 0.9480\n",
            "Epoch 24/100000\n",
            "335/335 [==============================] - 1s 3ms/step - loss: 0.1532 - accuracy: 0.9376 - val_loss: 0.1661 - val_accuracy: 0.9498\n",
            "Epoch 25/100000\n",
            "335/335 [==============================] - 1s 4ms/step - loss: 0.1522 - accuracy: 0.9386 - val_loss: 0.1758 - val_accuracy: 0.9498\n",
            "Epoch 26/100000\n",
            "335/335 [==============================] - 2s 5ms/step - loss: 0.1471 - accuracy: 0.9386 - val_loss: 0.1823 - val_accuracy: 0.9471\n",
            "Epoch 27/100000\n",
            "335/335 [==============================] - 1s 4ms/step - loss: 0.1473 - accuracy: 0.9355 - val_loss: 0.1666 - val_accuracy: 0.9516\n",
            "Epoch 28/100000\n",
            "335/335 [==============================] - 1s 4ms/step - loss: 0.1408 - accuracy: 0.9414 - val_loss: 0.1752 - val_accuracy: 0.9507\n",
            "Epoch 29/100000\n",
            "335/335 [==============================] - 1s 3ms/step - loss: 0.1485 - accuracy: 0.9385 - val_loss: 0.1715 - val_accuracy: 0.9507\n",
            "Epoch 30/100000\n",
            "335/335 [==============================] - 1s 3ms/step - loss: 0.1381 - accuracy: 0.9395 - val_loss: 0.1923 - val_accuracy: 0.9498\n",
            "Epoch 31/100000\n",
            "335/335 [==============================] - 1s 3ms/step - loss: 0.1369 - accuracy: 0.9409 - val_loss: 0.1881 - val_accuracy: 0.9498\n",
            "Epoch 32/100000\n",
            "335/335 [==============================] - 1s 3ms/step - loss: 0.1306 - accuracy: 0.9432 - val_loss: 0.1882 - val_accuracy: 0.9507\n",
            "Epoch 33/100000\n",
            "335/335 [==============================] - 1s 4ms/step - loss: 0.1288 - accuracy: 0.9448 - val_loss: 0.1888 - val_accuracy: 0.9444\n",
            "Epoch 34/100000\n",
            "335/335 [==============================] - 1s 3ms/step - loss: 0.1256 - accuracy: 0.9451 - val_loss: 0.1981 - val_accuracy: 0.9471\n",
            "Epoch 35/100000\n",
            "335/335 [==============================] - 1s 4ms/step - loss: 0.1214 - accuracy: 0.9448 - val_loss: 0.2120 - val_accuracy: 0.9498\n",
            "Epoch 36/100000\n",
            "335/335 [==============================] - 2s 5ms/step - loss: 0.1261 - accuracy: 0.9433 - val_loss: 0.2112 - val_accuracy: 0.9498\n",
            "Epoch 37/100000\n",
            "335/335 [==============================] - 2s 6ms/step - loss: 0.1197 - accuracy: 0.9480 - val_loss: 0.2129 - val_accuracy: 0.9498\n",
            "Epoch 38/100000\n",
            "335/335 [==============================] - 2s 6ms/step - loss: 0.1189 - accuracy: 0.9455 - val_loss: 0.2269 - val_accuracy: 0.9471\n",
            "Epoch 39/100000\n",
            "335/335 [==============================] - 2s 5ms/step - loss: 0.1245 - accuracy: 0.9463 - val_loss: 0.1952 - val_accuracy: 0.9444\n",
            "Epoch 40/100000\n",
            "335/335 [==============================] - 1s 4ms/step - loss: 0.1181 - accuracy: 0.9456 - val_loss: 0.2085 - val_accuracy: 0.9471\n",
            "Epoch 41/100000\n",
            "335/335 [==============================] - 1s 3ms/step - loss: 0.1159 - accuracy: 0.9479 - val_loss: 0.2281 - val_accuracy: 0.9480\n",
            "Epoch 42/100000\n",
            "335/335 [==============================] - 1s 3ms/step - loss: 0.1129 - accuracy: 0.9491 - val_loss: 0.2117 - val_accuracy: 0.9489\n",
            "Epoch 43/100000\n",
            "335/335 [==============================] - 1s 3ms/step - loss: 0.1138 - accuracy: 0.9475 - val_loss: 0.2087 - val_accuracy: 0.9453\n",
            "Epoch 44/100000\n",
            "335/335 [==============================] - 1s 3ms/step - loss: 0.1106 - accuracy: 0.9470 - val_loss: 0.2335 - val_accuracy: 0.9471\n",
            "Epoch 45/100000\n",
            "335/335 [==============================] - 1s 3ms/step - loss: 0.1167 - accuracy: 0.9445 - val_loss: 0.2308 - val_accuracy: 0.9435\n",
            "Epoch 46/100000\n",
            "335/335 [==============================] - 1s 3ms/step - loss: 0.1003 - accuracy: 0.9500 - val_loss: 0.2613 - val_accuracy: 0.9489\n",
            "Epoch 47/100000\n",
            "335/335 [==============================] - 1s 3ms/step - loss: 0.1010 - accuracy: 0.9601 - val_loss: 0.2555 - val_accuracy: 0.9480\n",
            "Epoch 48/100000\n",
            "335/335 [==============================] - 2s 5ms/step - loss: 0.1065 - accuracy: 0.9629 - val_loss: 0.2447 - val_accuracy: 0.9525\n",
            "Epoch 49/100000\n",
            "335/335 [==============================] - 2s 5ms/step - loss: 0.1039 - accuracy: 0.9630 - val_loss: 0.2585 - val_accuracy: 0.9426\n",
            "Epoch 50/100000\n",
            "335/335 [==============================] - 2s 5ms/step - loss: 0.1086 - accuracy: 0.9615 - val_loss: 0.2565 - val_accuracy: 0.9426\n",
            "Epoch 51/100000\n",
            "335/335 [==============================] - 1s 3ms/step - loss: 0.1011 - accuracy: 0.9630 - val_loss: 0.2944 - val_accuracy: 0.9435\n",
            "Epoch 52/100000\n",
            "335/335 [==============================] - 1s 3ms/step - loss: 0.1050 - accuracy: 0.9620 - val_loss: 0.2574 - val_accuracy: 0.9516\n",
            "Epoch 53/100000\n",
            "335/335 [==============================] - 1s 4ms/step - loss: 0.0950 - accuracy: 0.9656 - val_loss: 0.3049 - val_accuracy: 0.9435\n",
            "Epoch 54/100000\n",
            "335/335 [==============================] - 1s 3ms/step - loss: 0.0991 - accuracy: 0.9628 - val_loss: 0.2359 - val_accuracy: 0.9462\n",
            "Epoch 55/100000\n",
            "335/335 [==============================] - 1s 3ms/step - loss: 0.0930 - accuracy: 0.9655 - val_loss: 0.3016 - val_accuracy: 0.9489\n",
            "Epoch 56/100000\n",
            "335/335 [==============================] - 1s 3ms/step - loss: 0.0974 - accuracy: 0.9636 - val_loss: 0.2743 - val_accuracy: 0.9435\n",
            "Epoch 57/100000\n",
            "335/335 [==============================] - 1s 3ms/step - loss: 0.0922 - accuracy: 0.9644 - val_loss: 0.2922 - val_accuracy: 0.9516\n",
            "Epoch 58/100000\n",
            "335/335 [==============================] - 1s 4ms/step - loss: 0.0942 - accuracy: 0.9627 - val_loss: 0.3165 - val_accuracy: 0.9489\n",
            "Epoch 59/100000\n",
            "335/335 [==============================] - 2s 5ms/step - loss: 0.0944 - accuracy: 0.9667 - val_loss: 0.2849 - val_accuracy: 0.9444\n",
            "Epoch 60/100000\n",
            "335/335 [==============================] - 2s 5ms/step - loss: 0.0944 - accuracy: 0.9650 - val_loss: 0.3226 - val_accuracy: 0.9525\n",
            "Epoch 61/100000\n",
            "335/335 [==============================] - 1s 4ms/step - loss: 0.0919 - accuracy: 0.9681 - val_loss: 0.3215 - val_accuracy: 0.9489\n",
            "Epoch 62/100000\n",
            "335/335 [==============================] - 1s 4ms/step - loss: 0.0875 - accuracy: 0.9690 - val_loss: 0.3436 - val_accuracy: 0.9435\n",
            "Epoch 63/100000\n",
            "335/335 [==============================] - 1s 3ms/step - loss: 0.0859 - accuracy: 0.9692 - val_loss: 0.3466 - val_accuracy: 0.9453\n",
            "Epoch 64/100000\n",
            "335/335 [==============================] - 1s 3ms/step - loss: 0.0874 - accuracy: 0.9698 - val_loss: 0.3205 - val_accuracy: 0.9489\n",
            "Epoch 65/100000\n",
            "335/335 [==============================] - 1s 3ms/step - loss: 0.0860 - accuracy: 0.9685 - val_loss: 0.3520 - val_accuracy: 0.9426\n",
            "Epoch 66/100000\n",
            "335/335 [==============================] - 1s 3ms/step - loss: 0.0890 - accuracy: 0.9678 - val_loss: 0.3391 - val_accuracy: 0.9480\n",
            "Epoch 67/100000\n",
            "335/335 [==============================] - 1s 3ms/step - loss: 0.0901 - accuracy: 0.9683 - val_loss: 0.3618 - val_accuracy: 0.9471\n",
            "Epoch 68/100000\n",
            "335/335 [==============================] - 1s 3ms/step - loss: 0.0892 - accuracy: 0.9691 - val_loss: 0.3032 - val_accuracy: 0.9462\n",
            "Epoch 69/100000\n",
            "335/335 [==============================] - 1s 3ms/step - loss: 0.0914 - accuracy: 0.9688 - val_loss: 0.3289 - val_accuracy: 0.9444\n",
            "Epoch 70/100000\n",
            "335/335 [==============================] - 2s 4ms/step - loss: 0.0789 - accuracy: 0.9709 - val_loss: 0.3525 - val_accuracy: 0.9417\n",
            "Epoch 71/100000\n",
            "335/335 [==============================] - 2s 5ms/step - loss: 0.0806 - accuracy: 0.9699 - val_loss: 0.3484 - val_accuracy: 0.9471\n",
            "Epoch 72/100000\n",
            "335/335 [==============================] - 1s 4ms/step - loss: 0.0804 - accuracy: 0.9695 - val_loss: 0.3574 - val_accuracy: 0.9399\n",
            "Epoch 73/100000\n",
            "335/335 [==============================] - 1s 3ms/step - loss: 0.0789 - accuracy: 0.9701 - val_loss: 0.4033 - val_accuracy: 0.9417\n",
            "Epoch 74/100000\n",
            "335/335 [==============================] - 1s 3ms/step - loss: 0.0808 - accuracy: 0.9683 - val_loss: 0.3386 - val_accuracy: 0.9462\n",
            "Epoch 75/100000\n",
            "335/335 [==============================] - 1s 3ms/step - loss: 0.0783 - accuracy: 0.9716 - val_loss: 0.3906 - val_accuracy: 0.9471\n",
            "Epoch 76/100000\n",
            "335/335 [==============================] - 1s 3ms/step - loss: 0.0796 - accuracy: 0.9690 - val_loss: 0.4063 - val_accuracy: 0.9444\n",
            "Epoch 77/100000\n",
            "335/335 [==============================] - 1s 3ms/step - loss: 0.0760 - accuracy: 0.9722 - val_loss: 0.3634 - val_accuracy: 0.9417\n",
            "Epoch 78/100000\n",
            "335/335 [==============================] - 1s 3ms/step - loss: 0.0719 - accuracy: 0.9740 - val_loss: 0.4085 - val_accuracy: 0.9453\n",
            "Epoch 79/100000\n",
            "335/335 [==============================] - 1s 3ms/step - loss: 0.0827 - accuracy: 0.9720 - val_loss: 0.3499 - val_accuracy: 0.9408\n",
            "Epoch 80/100000\n",
            "335/335 [==============================] - 1s 4ms/step - loss: 0.0738 - accuracy: 0.9711 - val_loss: 0.4219 - val_accuracy: 0.9444\n",
            "Epoch 81/100000\n",
            "335/335 [==============================] - 2s 7ms/step - loss: 0.0816 - accuracy: 0.9711 - val_loss: 0.3572 - val_accuracy: 0.9381\n",
            "Epoch 82/100000\n",
            "335/335 [==============================] - 2s 5ms/step - loss: 0.0762 - accuracy: 0.9725 - val_loss: 0.4215 - val_accuracy: 0.9435\n",
            "Epoch 83/100000\n",
            "335/335 [==============================] - 1s 3ms/step - loss: 0.0744 - accuracy: 0.9716 - val_loss: 0.4010 - val_accuracy: 0.9426\n",
            "Epoch 84/100000\n",
            "335/335 [==============================] - 1s 3ms/step - loss: 0.0751 - accuracy: 0.9744 - val_loss: 0.4282 - val_accuracy: 0.9444\n",
            "Epoch 85/100000\n",
            "335/335 [==============================] - 1s 3ms/step - loss: 0.0728 - accuracy: 0.9730 - val_loss: 0.4746 - val_accuracy: 0.9435\n",
            "Epoch 86/100000\n",
            "335/335 [==============================] - 1s 3ms/step - loss: 0.0785 - accuracy: 0.9728 - val_loss: 0.3994 - val_accuracy: 0.9453\n",
            "Epoch 87/100000\n",
            "335/335 [==============================] - 1s 3ms/step - loss: 0.0693 - accuracy: 0.9732 - val_loss: 0.4165 - val_accuracy: 0.9453\n",
            "Epoch 88/100000\n",
            "335/335 [==============================] - 1s 3ms/step - loss: 0.0731 - accuracy: 0.9723 - val_loss: 0.4327 - val_accuracy: 0.9489\n",
            "Epoch 89/100000\n",
            "335/335 [==============================] - 1s 3ms/step - loss: 0.0725 - accuracy: 0.9728 - val_loss: 0.4006 - val_accuracy: 0.9435\n",
            "Epoch 90/100000\n",
            "335/335 [==============================] - 1s 3ms/step - loss: 0.0793 - accuracy: 0.9735 - val_loss: 0.3536 - val_accuracy: 0.9462\n",
            "Epoch 91/100000\n",
            "335/335 [==============================] - 1s 3ms/step - loss: 0.0661 - accuracy: 0.9755 - val_loss: 0.4075 - val_accuracy: 0.9426\n",
            "Epoch 92/100000\n",
            "335/335 [==============================] - 1s 4ms/step - loss: 0.0694 - accuracy: 0.9746 - val_loss: 0.4520 - val_accuracy: 0.9444\n",
            "Epoch 93/100000\n",
            "335/335 [==============================] - 2s 5ms/step - loss: 0.0769 - accuracy: 0.9722 - val_loss: 0.4355 - val_accuracy: 0.9417\n",
            "Epoch 94/100000\n",
            "335/335 [==============================] - 2s 5ms/step - loss: 0.0739 - accuracy: 0.9729 - val_loss: 0.4713 - val_accuracy: 0.9426\n",
            "Epoch 95/100000\n",
            "335/335 [==============================] - 1s 3ms/step - loss: 0.0668 - accuracy: 0.9743 - val_loss: 0.4923 - val_accuracy: 0.9480\n",
            "Epoch 96/100000\n",
            "335/335 [==============================] - 1s 3ms/step - loss: 0.0626 - accuracy: 0.9770 - val_loss: 0.5116 - val_accuracy: 0.9462\n",
            "Epoch 97/100000\n",
            "335/335 [==============================] - 1s 3ms/step - loss: 0.0621 - accuracy: 0.9767 - val_loss: 0.5408 - val_accuracy: 0.9453\n",
            "Epoch 98/100000\n",
            "335/335 [==============================] - 1s 3ms/step - loss: 0.0620 - accuracy: 0.9785 - val_loss: 0.4523 - val_accuracy: 0.9408\n",
            "Epoch 99/100000\n",
            "335/335 [==============================] - 1s 4ms/step - loss: 0.0677 - accuracy: 0.9745 - val_loss: 0.5103 - val_accuracy: 0.9435\n",
            "Epoch 100/100000\n",
            "335/335 [==============================] - 1s 3ms/step - loss: 0.0701 - accuracy: 0.9728 - val_loss: 0.4612 - val_accuracy: 0.9435\n",
            "Epoch 101/100000\n",
            "335/335 [==============================] - 1s 3ms/step - loss: 0.0673 - accuracy: 0.9761 - val_loss: 0.4855 - val_accuracy: 0.9453\n",
            "Epoch 102/100000\n",
            "335/335 [==============================] - 1s 3ms/step - loss: 0.0622 - accuracy: 0.9770 - val_loss: 0.5055 - val_accuracy: 0.9498\n",
            "Epoch 103/100000\n",
            "335/335 [==============================] - 1s 4ms/step - loss: 0.0607 - accuracy: 0.9791 - val_loss: 0.4697 - val_accuracy: 0.9471\n",
            "Epoch 104/100000\n",
            "335/335 [==============================] - 2s 5ms/step - loss: 0.0652 - accuracy: 0.9768 - val_loss: 0.4684 - val_accuracy: 0.9417\n",
            "Epoch 105/100000\n",
            "335/335 [==============================] - 2s 5ms/step - loss: 0.0666 - accuracy: 0.9748 - val_loss: 0.5012 - val_accuracy: 0.9471\n",
            "Epoch 106/100000\n",
            "335/335 [==============================] - 1s 3ms/step - loss: 0.0634 - accuracy: 0.9757 - val_loss: 0.5107 - val_accuracy: 0.9480\n",
            "Epoch 107/100000\n",
            "335/335 [==============================] - 1s 3ms/step - loss: 0.0634 - accuracy: 0.9771 - val_loss: 0.4821 - val_accuracy: 0.9471\n",
            "Epoch 108/100000\n",
            "335/335 [==============================] - 1s 3ms/step - loss: 0.0647 - accuracy: 0.9748 - val_loss: 0.4775 - val_accuracy: 0.9453\n"
          ]
        }
      ],
      "source": [
        "# Fitting the model\n",
        "#epochs=100000\n",
        "\n",
        "history = model.fit(X_train, y_train,\n",
        "                    validation_data = (X_test, y_test),\n",
        "                    callbacks=[es],\n",
        "                    epochs=100000,\n",
        "                    batch_size=30, # 30 this is a hyperparameter\n",
        "                    shuffle=True,\n",
        "                    verbose=1)"
      ]
    },
    {
      "cell_type": "markdown",
      "source": [
        "# 🔴 Evaluation"
      ],
      "metadata": {
        "id": "DP_K-oJoBiVu"
      }
    },
    {
      "cell_type": "markdown",
      "source": [
        "## 🟡 Learning Curves for accuracy and Loss"
      ],
      "metadata": {
        "id": "JTbYRC0pBpZ_"
      }
    },
    {
      "cell_type": "markdown",
      "source": [
        "### 💜 Plot for Training and Validation Accuracy"
      ],
      "metadata": {
        "id": "AhMakACbCjLF"
      }
    },
    {
      "cell_type": "code",
      "source": [
        "# accuracy\n",
        "acc = history.history['accuracy']\n",
        "val_acc = history.history['val_accuracy']\n",
        "\n",
        "# loss\n",
        "loss = history.history['loss']\n",
        "val_loss = history.history['val_loss']\n",
        "\n",
        "epochs = range(1, len(acc) + 1)\n",
        "\n",
        "# \"r\" is for \"solid red line\"\n",
        "plt.plot(epochs, acc, 'r', label='Training accuracy')\n",
        "# b is for \"solid blue line\"\n",
        "plt.plot(epochs, val_acc, 'b', label='Validation accuracy')\n",
        "plt.title('Training and validation accuracy')\n",
        "plt.xlabel('Epochs')\n",
        "plt.ylabel('Accuracy')\n",
        "plt.legend()\n",
        "\n",
        "plt.show()"
      ],
      "metadata": {
        "id": "7ULLAHxjB89M",
        "colab": {
          "base_uri": "https://localhost:8080/",
          "height": 472
        },
        "outputId": "08fcc3ed-6e79-4fcd-802a-c2714b4bbd61"
      },
      "execution_count": 41,
      "outputs": [
        {
          "output_type": "display_data",
          "data": {
            "text/plain": [
              "<Figure size 640x480 with 1 Axes>"
            ],
            "image/png": "[encoded data removed]"
          },
          "metadata": {}
        }
      ]
    },
    {
      "cell_type": "markdown",
      "source": [
        "### 💜 Plot for Training and Validation Loss"
      ],
      "metadata": {
        "id": "oRhjm1lBCtGR"
      }
    },
    {
      "cell_type": "code",
      "source": [
        "# Training and Validation accuracy by loss\n",
        "\n",
        "\n",
        "history_dict = history.history\n",
        "loss_values = history_dict['loss']\n",
        "val_loss_values = history_dict['val_loss']\n",
        "epochs = range(1, len(loss_values) + 1) # range of X (no. of epochs)\n",
        "plt.plot(epochs, loss_values, 'bo', label='Training loss')\n",
        "plt.plot(epochs, val_loss_values, 'orange', label='Validation loss')\n",
        "plt.title('Training and validation loss')\n",
        "plt.xlabel('Epochs')\n",
        "plt.ylabel('Loss')\n",
        "plt.legend()\n",
        "plt.show()"
      ],
      "metadata": {
        "id": "px5UpCluCDX9",
        "colab": {
          "base_uri": "https://localhost:8080/",
          "height": 472
        },
        "outputId": "8aeab945-5a3d-414b-996a-acf38ce6c23b"
      },
      "execution_count": 42,
      "outputs": [
        {
          "output_type": "display_data",
          "data": {
            "text/plain": [
              "<Figure size 640x480 with 1 Axes>"
            ],
            "image/png": "[encoded data removed]"
          },
          "metadata": {}
        }
      ]
    },
    {
      "cell_type": "markdown",
      "source": [
        "### Plot for Training and Validation accuracy by epoch"
      ],
      "metadata": {
        "id": "BRokQPNBC1GO"
      }
    },
    {
      "cell_type": "code",
      "source": [
        "# let's see the training and validation accuracy by epoch\n",
        "history_dict = history.history\n",
        "loss_values = history_dict['accuracy'] # you can change this\n",
        "val_loss_values = history_dict['val_accuracy'] # you can also change this\n",
        "epochs = range(1, len(loss_values) + 1) # range of X (no. of epochs)\n",
        "plt.plot(epochs, loss_values, 'bo', label='Training acc')\n",
        "plt.plot(epochs, val_loss_values, 'orange', label='Validation acc')\n",
        "plt.title('Training and validation accuracy by Epoch')\n",
        "plt.xlabel('Epochs')\n",
        "plt.ylabel('Acc')\n",
        "plt.legend()\n",
        "plt.show()"
      ],
      "metadata": {
        "id": "C0yM1kQRCK3H",
        "colab": {
          "base_uri": "https://localhost:8080/",
          "height": 472
        },
        "outputId": "533bee53-eece-481b-8416-83e4323b063d"
      },
      "execution_count": 43,
      "outputs": [
        {
          "output_type": "display_data",
          "data": {
            "text/plain": [
              "<Figure size 640x480 with 1 Axes>"
            ],
            "image/png": "[encoded data removed]"
          },
          "metadata": {}
        }
      ]
    },
    {
      "cell_type": "markdown",
      "source": [
        "## 💛 Confusion Matrix and Error Metrics"
      ],
      "metadata": {
        "id": "T-ExwfsBDY4v"
      }
    },
    {
      "cell_type": "code",
      "execution_count": 44,
      "metadata": {
        "id": "Kk0pNRo0fgew",
        "colab": {
          "base_uri": "https://localhost:8080/"
        },
        "outputId": "655025a6-4610-476f-ea91-8ac01f6de1dc"
      },
      "outputs": [
        {
          "output_type": "stream",
          "name": "stdout",
          "text": [
            "349/349 [==============================] - 1s 2ms/step\n",
            "(11144, 1)\n",
            "[0.]\n"
          ]
        },
        {
          "output_type": "execute_result",
          "data": {
            "text/plain": [
              "0.0"
            ]
          },
          "metadata": {},
          "execution_count": 44
        }
      ],
      "source": [
        "# see how the model did!\n",
        "preds = model.predict(X)\n",
        "print(preds.shape)\n",
        "\n",
        "# i'm spreading that prediction across three nodes and they sum to 1\n",
        "print(preds[0])\n",
        "\n",
        "# sum it up! see how probability mass (1) is spread over three preds?\n",
        "np.sum(preds[0])"
      ]
    },
    {
      "cell_type": "markdown",
      "source": [
        "### ✅ Confusion Matrix for Train Partition"
      ],
      "metadata": {
        "id": "3sXKA9lfDx1d"
      }
    },
    {
      "cell_type": "code",
      "execution_count": 45,
      "metadata": {
        "id": "xWyynFnlfiAq",
        "colab": {
          "base_uri": "https://localhost:8080/"
        },
        "outputId": "05bfb8d5-6527-4f76-b8a7-790047c9597f"
      },
      "outputs": [
        {
          "output_type": "stream",
          "name": "stdout",
          "text": [
            "314/314 [==============================] - 1s 2ms/step\n"
          ]
        },
        {
          "output_type": "execute_result",
          "data": {
            "text/plain": [
              "array([[9016,   18],\n",
              "       [ 163,  832]])"
            ]
          },
          "metadata": {},
          "execution_count": 45
        }
      ],
      "source": [
        "# Confusion Matrix for train Partition\n",
        "# if you don't round to a whole number (0 or 1), the confusion matrix won't work!\n",
        "preds = np.round(model.predict(X_train),0)\n",
        "\n",
        "# confusion matrix\n",
        "confusion_matrix(y_train, preds) # order matters! (actual, predicted)\n",
        "\n",
        "# TP is bottom right\n",
        "# TN is top left\n",
        "# FP is top right\n",
        "# FN is bottom left"
      ]
    },
    {
      "cell_type": "markdown",
      "source": [
        "Train Partition Results :\n",
        "\n",
        "\n",
        "     TP - 899\n",
        "\n",
        "     TN - 9032\n",
        "\n",
        "     FP - 2\n",
        "\n",
        "     FN - 96"
      ],
      "metadata": {
        "id": "jog4l9sK7g6M"
      }
    },
    {
      "cell_type": "markdown",
      "source": [
        "### ✅ Error Metrics for Train Partition"
      ],
      "metadata": {
        "id": "Z-C55w5EEBdF"
      }
    },
    {
      "cell_type": "code",
      "execution_count": 46,
      "metadata": {
        "id": "2Xz3Ps8_fj6j",
        "colab": {
          "base_uri": "https://localhost:8080/"
        },
        "outputId": "64f4408a-b1e4-42cf-de95-de19fac08a0f"
      },
      "outputs": [
        {
          "output_type": "stream",
          "name": "stdout",
          "text": [
            "              precision    recall  f1-score   support\n",
            "\n",
            "           0       0.98      1.00      0.99      9034\n",
            "           1       0.98      0.84      0.90       995\n",
            "\n",
            "    accuracy                           0.98     10029\n",
            "   macro avg       0.98      0.92      0.95     10029\n",
            "weighted avg       0.98      0.98      0.98     10029\n",
            "\n"
          ]
        }
      ],
      "source": [
        "# Error Metrics for train partition\n",
        "print(classification_report(y_train, preds))"
      ]
    },
    {
      "cell_type": "markdown",
      "source": [
        "\n",
        "Train Partition - The model achieved 99% precision and  recall for both Class 0 and Class 1, with a 99% F1-score for Class 0 and 95% for Class 1, demonstrating robust classification performance. Class 0, with 100% recall, correctly predicted all Human instances, while Class 1(AI), with 91% recall, showed high accuracy in predicting positive instances. The overall accuracy reached 99%, and macro and weighted averages of precision, recall, and F1-score indicated consistent performance across both classes, accounting for class imbalance."
      ],
      "metadata": {
        "id": "y2SLMM8u9JXO"
      }
    },
    {
      "cell_type": "markdown",
      "source": [
        "### ✅ Confusion Matrix for Test Partition"
      ],
      "metadata": {
        "id": "paBpKc6jEHFX"
      }
    },
    {
      "cell_type": "code",
      "execution_count": 47,
      "metadata": {
        "id": "jlBX5WSXfoCn",
        "colab": {
          "base_uri": "https://localhost:8080/"
        },
        "outputId": "2e0c74b0-d97a-4b44-cfcb-e2973380d816"
      },
      "outputs": [
        {
          "output_type": "stream",
          "name": "stdout",
          "text": [
            "35/35 [==============================] - 0s 2ms/step\n"
          ]
        },
        {
          "output_type": "execute_result",
          "data": {
            "text/plain": [
              "array([[999,  11],\n",
              "       [ 42,  63]])"
            ]
          },
          "metadata": {},
          "execution_count": 47
        }
      ],
      "source": [
        "#Confusion Matrix for test Partition\n",
        "preds = np.round(model.predict(X_test),0)\n",
        "\n",
        "# confusion matrix\n",
        "confusion_matrix(y_test, preds) # order matters! (actual, predicted)\n",
        "\n",
        "# TP is bottom right\n",
        "# TN is top left\n",
        "# FP is top right\n",
        "# FN is bottom left"
      ]
    },
    {
      "cell_type": "markdown",
      "source": [
        "Test Partition Results :\n",
        "\n",
        "\n",
        "     TP - 65\n",
        "\n",
        "     TN - 1004\n",
        "\n",
        "     FP - 6\n",
        "\n",
        "     FN - 40"
      ],
      "metadata": {
        "id": "AuyUFpuW8WwS"
      }
    },
    {
      "cell_type": "markdown",
      "source": [
        "### ✅ Error Metrics for Test Partition"
      ],
      "metadata": {
        "id": "Ycsb7wFWEJkN"
      }
    },
    {
      "cell_type": "code",
      "execution_count": 48,
      "metadata": {
        "id": "_planCSefph8",
        "colab": {
          "base_uri": "https://localhost:8080/"
        },
        "outputId": "75ee7dfb-cea3-4a2a-9dd1-5a5f0f5a6150"
      },
      "outputs": [
        {
          "output_type": "stream",
          "name": "stdout",
          "text": [
            "              precision    recall  f1-score   support\n",
            "\n",
            "           0       0.96      0.99      0.97      1010\n",
            "           1       0.85      0.60      0.70       105\n",
            "\n",
            "    accuracy                           0.95      1115\n",
            "   macro avg       0.91      0.79      0.84      1115\n",
            "weighted avg       0.95      0.95      0.95      1115\n",
            "\n"
          ]
        }
      ],
      "source": [
        "#Error Metrics for test Partition\n",
        "\n",
        "print(classification_report(y_test, preds))"
      ]
    },
    {
      "cell_type": "markdown",
      "source": [
        " Test Partition - The model achieved 96% precision and 99% recall for Human (Class 0), indicating high accuracy in predicting Human instances, while for AI(class-1), it showed 92% precision and 62% recall, resulting in a 74% F1-score. The overall accuracy on the test partition was 96%, with a macro average of 94% for precision and 81% for recall, and a weighted average of 96% for precision, 96% for recall, and 96% for F1-score, demonstrating consistent performance across both classes, albeit with lower recall for Class 1."
      ],
      "metadata": {
        "id": "9V0coduR91YE"
      }
    },
    {
      "cell_type": "markdown",
      "source": [
        "# 😍  Final F1 Score"
      ],
      "metadata": {
        "id": "TYJICb8XEZI9"
      }
    },
    {
      "cell_type": "code",
      "execution_count": 49,
      "metadata": {
        "id": "qMrfOZoRfp7t"
      },
      "outputs": [],
      "source": [
        "from sklearn.metrics import f1_score"
      ]
    },
    {
      "cell_type": "code",
      "execution_count": 50,
      "metadata": {
        "id": "olAmUkDCfswb",
        "colab": {
          "base_uri": "https://localhost:8080/"
        },
        "outputId": "2307ff4c-ba11-4c5d-c9e7-ad21f0722029"
      },
      "outputs": [
        {
          "output_type": "execute_result",
          "data": {
            "text/plain": [
              "0.7039106145251396"
            ]
          },
          "metadata": {},
          "execution_count": 50
        }
      ],
      "source": [
        "f1_score(y_test, preds)"
      ]
    },
    {
      "cell_type": "markdown",
      "source": [
        "# 🔶 Conclusion"
      ],
      "metadata": {
        "id": "UrQ0kYjp-tpu"
      }
    },
    {
      "cell_type": "markdown",
      "source": [
        "1. At the project's initiation, I conducted an initial model run by exclusively choosing predictors with a significant correlation (greater than 0.15, either positive or negative) with the target variable. However, employing a dense layer neural network revealed an F1 score of approximately 0.6 with that model. This initial F1 score prompted the realization that retaining a substantial number of predictor variables in the dataset might be crucial, leading me to reconsider the strategy of dropping a large number of predictors.\n",
        "\n",
        "2. In my subsequent trial, I explored feature engineering by selecting the top 85% (and various other percentages) of features based on their importance in a Random Classifier Model. However, despite these efforts, the model's performance did not show a significant improvement, maintaining an F1 score ranging between 0.6 and 0.68. Consequently, I opted not to proceed with a model that incorporated feature engineering.\n",
        "\n",
        "3. Subsequently, I developed a model while retaining all features, comprising three densely connected layers with 50, 25, and 10 neurons, each utilizing ReLU activation functions. After each dense layer, a dropout layer with a dropout rate of 0.5 was incorporated. The output layer employed a sigmoid activation function with one output node. Notably, the model incorporated an early stopping callback with a patience of 60. Ultimately, this model achieved an F1 score of 0.7386 on the test partition.\n",
        "\n",
        "4. The model demonstrates robust performance in accurately identifying instances of the majority class (Human, Class 0), as evidenced by a high true negative count (1004) and a low false positive count (6). While facing challenges in predicting instances of the minority class (AI, Class 1), reflected in a lower true positive count (65) and a slightly higher false negative count (40), this suggests the model's cautious approach, aiming to minimize false positives, and aligns with the chosen dropout rate's regularization effect during training.\n",
        "\n",
        "5. An Area Under the Curve (AUC) value of 0.94 in the Receiver Operating Characteristic (ROC) curve indicates strong discriminative power of the model. The closer the AUC is to 1, the better the model distinguishes between positive and negative instances. In this case, the high AUC of 0.94 suggests that the model performs exceptionally well in differentiating between the two classes, affirming its robust predictive capability. (AUC curve is plotted below)\n",
        "\n",
        "6. Final conclsuion : In the project's early stages, an attempt to select predictors based on correlation yielded a neural network with a modest F1 score of 0.6, prompting reconsideration of feature reduction. Subsequent efforts in feature engineering, despite not significantly improving model performance, informed the decision to retain all features. The final model, a three-layer dense neural network, exhibited robust performance with an F1 score of 0.7386 on the test partition and a strong AUC of 0.94 in the ROC curve, emphasizing its effectiveness in distinguishing between classes. Overall, this model is doing a good job in classifying Human and AI."
      ],
      "metadata": {
        "id": "Dx8cexp9_Oxq"
      }
    },
    {
      "cell_type": "code",
      "source": [
        "\n",
        "import matplotlib.pyplot as plt\n",
        "from sklearn.metrics import roc_curve, roc_auc_score\n",
        "\n",
        "# Assuming 'model' is your trained neural network\n",
        "y_probs = model.predict(X_test)\n",
        "fpr, tpr, thresholds = roc_curve(y_test, y_probs)\n",
        "auc = roc_auc_score(y_test, y_probs)\n",
        "\n",
        "plt.plot(fpr, tpr, label=f'AUC = {auc:.2f}')\n",
        "plt.plot([0, 1], [0, 1], linestyle='--', color='grey')\n",
        "plt.xlabel('False Positive Rate')\n",
        "plt.ylabel('True Positive Rate')\n",
        "plt.title('ROC Curve')\n",
        "plt.legend()\n",
        "plt.show()\n",
        "\n"
      ],
      "metadata": {
        "id": "xbSqJ59vLYKK",
        "colab": {
          "base_uri": "https://localhost:8080/",
          "height": 489
        },
        "outputId": "7c8fb8cd-d55d-42f6-b3e4-6c06a0e096d4"
      },
      "execution_count": 51,
      "outputs": [
        {
          "output_type": "stream",
          "name": "stdout",
          "text": [
            "35/35 [==============================] - 0s 2ms/step\n"
          ]
        },
        {
          "output_type": "display_data",
          "data": {
            "text/plain": [
              "<Figure size 640x480 with 1 Axes>"
            ],
            "image/png": "[encoded data removed]"
          },
          "metadata": {}
        }
      ]
    }
  ],
  "metadata": {
    "colab": {
      "provenance": [],
      "toc_visible": true
    },
    "kernelspec": {
      "display_name": "Python 3",
      "name": "python3"
    },
    "language_info": {
      "name": "python"
    }
  },
  "nbformat": 4,
  "nbformat_minor": 0
}
